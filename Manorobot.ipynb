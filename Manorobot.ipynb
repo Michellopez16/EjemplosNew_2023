{
 "cells": [
  {
   "cell_type": "code",
   "execution_count": null,
   "metadata": {},
   "outputs": [],
   "source": []
  },
  {
   "cell_type": "markdown",
   "metadata": {},
   "source": [
    "En robótica, la biblioteca sympy de Python se puede usar para realizar cálculos simbólicos, como resolver ecuaciones de cinemática inversa y directa. Aquí hay un ejemplo simple que demuestra cómo se puede usar sympy para calcular la cinemática directa de un robot manipulador de 2 grados de libertad.\n",
    "\n",
    "Cinemática Directa\n",
    "La cinemática directa se refiere a la utilización de las ecuaciones matemáticas para calcular la posición del extremo efectuador del robot (la \"mano\" del robot) en función de los ángulos de sus articulaciones.\n",
    "\n"
   ]
  },
  {
   "cell_type": "code",
   "execution_count": 3,
   "metadata": {},
   "outputs": [],
   "source": [
    "#!pip install sympy"
   ]
  },
  {
   "cell_type": "code",
   "execution_count": null,
   "metadata": {},
   "outputs": [],
   "source": []
  },
  {
   "cell_type": "markdown",
   "metadata": {},
   "source": [
    "# Cinemática Directa"
   ]
  },
  {
   "cell_type": "code",
   "execution_count": 4,
   "metadata": {},
   "outputs": [
    {
     "name": "stdout",
     "output_type": "stream",
     "text": [
      "Matriz de Transformación Homogénea:\n",
      "Matrix([[cos(theta1 + theta2), -sin(theta1 + theta2), 0, a1*cos(theta1) + a2*cos(theta1 + theta2)], [sin(theta1 + theta2), cos(theta1 + theta2), 0, a1*sin(theta1) + a2*sin(theta1 + theta2)], [0, 0, 1, 0], [0, 0, 0, 1]])\n"
     ]
    }
   ],
   "source": [
    "from sympy import symbols, cos, sin, pi, simplify, atan2, sqrt\n",
    "from sympy.matrices import Matrix\n",
    "\n",
    "# Definir las variables simbólicas\n",
    "theta1, theta2 = symbols('theta1 theta2')\n",
    "\n",
    "# Longitudes de los eslabones\n",
    "a1, a2 = symbols('a1 a2')\n",
    "\n",
    "# Matriz de transformación homogénea para la primera articulación (rotación alrededor de Z)\n",
    "T1 = Matrix([[cos(theta1), -sin(theta1), 0, a1*cos(theta1)],\n",
    "             [sin(theta1), cos(theta1), 0, a1*sin(theta1)],\n",
    "             [0, 0, 1, 0],\n",
    "             [0, 0, 0, 1]])\n",
    "\n",
    "# Matriz de transformación homogénea para la segunda articulación (rotación alrededor de Z)\n",
    "T2 = Matrix([[cos(theta2), -sin(theta2), 0, a2*cos(theta2)],\n",
    "             [sin(theta2), cos(theta2), 0, a2*sin(theta2)],\n",
    "             [0, 0, 1, 0],\n",
    "             [0, 0, 0, 1]])\n",
    "\n",
    "# Calcular la matriz de transformación homogénea total\n",
    "T = simplify(T1 * T2)\n",
    "\n",
    "# Mostrar la matriz de transformación\n",
    "print('Matriz de Transformación Homogénea:')\n",
    "print(T)"
   ]
  },
  {
   "cell_type": "code",
   "execution_count": 6,
   "metadata": {},
   "outputs": [
    {
     "data": {
      "text/latex": [
       "$\\displaystyle \\left[\\begin{matrix}\\cos{\\left(\\theta_{1} \\right)} & - \\sin{\\left(\\theta_{1} \\right)} & 0 & a_{1} \\cos{\\left(\\theta_{1} \\right)}\\\\\\sin{\\left(\\theta_{1} \\right)} & \\cos{\\left(\\theta_{1} \\right)} & 0 & a_{1} \\sin{\\left(\\theta_{1} \\right)}\\\\0 & 0 & 1 & 0\\\\0 & 0 & 0 & 1\\end{matrix}\\right]$"
      ],
      "text/plain": [
       "Matrix([\n",
       "[cos(theta1), -sin(theta1), 0, a1*cos(theta1)],\n",
       "[sin(theta1),  cos(theta1), 0, a1*sin(theta1)],\n",
       "[          0,            0, 1,              0],\n",
       "[          0,            0, 0,              1]])"
      ]
     },
     "execution_count": 6,
     "metadata": {},
     "output_type": "execute_result"
    }
   ],
   "source": [
    "T1"
   ]
  },
  {
   "cell_type": "code",
   "execution_count": 7,
   "metadata": {},
   "outputs": [
    {
     "data": {
      "text/latex": [
       "$\\displaystyle \\left[\\begin{matrix}\\cos{\\left(\\theta_{2} \\right)} & - \\sin{\\left(\\theta_{2} \\right)} & 0 & a_{2} \\cos{\\left(\\theta_{2} \\right)}\\\\\\sin{\\left(\\theta_{2} \\right)} & \\cos{\\left(\\theta_{2} \\right)} & 0 & a_{2} \\sin{\\left(\\theta_{2} \\right)}\\\\0 & 0 & 1 & 0\\\\0 & 0 & 0 & 1\\end{matrix}\\right]$"
      ],
      "text/plain": [
       "Matrix([\n",
       "[cos(theta2), -sin(theta2), 0, a2*cos(theta2)],\n",
       "[sin(theta2),  cos(theta2), 0, a2*sin(theta2)],\n",
       "[          0,            0, 1,              0],\n",
       "[          0,            0, 0,              1]])"
      ]
     },
     "execution_count": 7,
     "metadata": {},
     "output_type": "execute_result"
    }
   ],
   "source": [
    "T2"
   ]
  },
  {
   "cell_type": "code",
   "execution_count": 5,
   "metadata": {},
   "outputs": [
    {
     "data": {
      "text/latex": [
       "$\\displaystyle \\left[\\begin{matrix}\\cos{\\left(\\theta_{1} + \\theta_{2} \\right)} & - \\sin{\\left(\\theta_{1} + \\theta_{2} \\right)} & 0 & a_{1} \\cos{\\left(\\theta_{1} \\right)} + a_{2} \\cos{\\left(\\theta_{1} + \\theta_{2} \\right)}\\\\\\sin{\\left(\\theta_{1} + \\theta_{2} \\right)} & \\cos{\\left(\\theta_{1} + \\theta_{2} \\right)} & 0 & a_{1} \\sin{\\left(\\theta_{1} \\right)} + a_{2} \\sin{\\left(\\theta_{1} + \\theta_{2} \\right)}\\\\0 & 0 & 1 & 0\\\\0 & 0 & 0 & 1\\end{matrix}\\right]$"
      ],
      "text/plain": [
       "Matrix([\n",
       "[cos(theta1 + theta2), -sin(theta1 + theta2), 0, a1*cos(theta1) + a2*cos(theta1 + theta2)],\n",
       "[sin(theta1 + theta2),  cos(theta1 + theta2), 0, a1*sin(theta1) + a2*sin(theta1 + theta2)],\n",
       "[                   0,                     0, 1,                                        0],\n",
       "[                   0,                     0, 0,                                        1]])"
      ]
     },
     "execution_count": 5,
     "metadata": {},
     "output_type": "execute_result"
    }
   ],
   "source": [
    "T"
   ]
  },
  {
   "cell_type": "code",
   "execution_count": null,
   "metadata": {},
   "outputs": [],
   "source": []
  },
  {
   "cell_type": "markdown",
   "metadata": {},
   "source": [
    "Este código crea dos matrices de transformación homogénea, T1 y T2, que representan la rotación y traslación de cada articulación del robot, y luego las multiplica para obtener la matriz de transformación total T. Al final, imprime esta matriz, que se puede usar para encontrar la posición del extremo efectuador del robot en el espacio 2D.\n",
    "\n",
    "Este ejemplo es bastante simple y asume que todas las rotaciones son alrededor del eje Z (plano 2D). En un robot real en 3D, tendrías que considerar todas las rotaciones y traslaciones en los tres ejes, y posiblemente también considerar traslaciones y rotaciones en el origen.\n"
   ]
  },
  {
   "cell_type": "code",
   "execution_count": null,
   "metadata": {},
   "outputs": [],
   "source": []
  },
  {
   "cell_type": "code",
   "execution_count": 12,
   "metadata": {},
   "outputs": [],
   "source": [
    "#!pip install matplotlib"
   ]
  },
  {
   "cell_type": "code",
   "execution_count": 15,
   "metadata": {},
   "outputs": [],
   "source": [
    "%matplotlib notebook"
   ]
  },
  {
   "cell_type": "code",
   "execution_count": 16,
   "metadata": {},
   "outputs": [
    {
     "data": {
      "application/javascript": "/* Put everything inside the global mpl namespace */\n/* global mpl */\nwindow.mpl = {};\n\nmpl.get_websocket_type = function () {\n    if (typeof WebSocket !== 'undefined') {\n        return WebSocket;\n    } else if (typeof MozWebSocket !== 'undefined') {\n        return MozWebSocket;\n    } else {\n        alert(\n            'Your browser does not have WebSocket support. ' +\n                'Please try Chrome, Safari or Firefox ≥ 6. ' +\n                'Firefox 4 and 5 are also supported but you ' +\n                'have to enable WebSockets in about:config.'\n        );\n    }\n};\n\nmpl.figure = function (figure_id, websocket, ondownload, parent_element) {\n    this.id = figure_id;\n\n    this.ws = websocket;\n\n    this.supports_binary = this.ws.binaryType !== undefined;\n\n    if (!this.supports_binary) {\n        var warnings = document.getElementById('mpl-warnings');\n        if (warnings) {\n            warnings.style.display = 'block';\n            warnings.textContent =\n                'This browser does not support binary websocket messages. ' +\n                'Performance may be slow.';\n        }\n    }\n\n    this.imageObj = new Image();\n\n    this.context = undefined;\n    this.message = undefined;\n    this.canvas = undefined;\n    this.rubberband_canvas = undefined;\n    this.rubberband_context = undefined;\n    this.format_dropdown = undefined;\n\n    this.image_mode = 'full';\n\n    this.root = document.createElement('div');\n    this.root.setAttribute('style', 'display: inline-block');\n    this._root_extra_style(this.root);\n\n    parent_element.appendChild(this.root);\n\n    this._init_header(this);\n    this._init_canvas(this);\n    this._init_toolbar(this);\n\n    var fig = this;\n\n    this.waiting = false;\n\n    this.ws.onopen = function () {\n        fig.send_message('supports_binary', { value: fig.supports_binary });\n        fig.send_message('send_image_mode', {});\n        if (fig.ratio !== 1) {\n            fig.send_message('set_device_pixel_ratio', {\n                device_pixel_ratio: fig.ratio,\n            });\n        }\n        fig.send_message('refresh', {});\n    };\n\n    this.imageObj.onload = function () {\n        if (fig.image_mode === 'full') {\n            // Full images could contain transparency (where diff images\n            // almost always do), so we need to clear the canvas so that\n            // there is no ghosting.\n            fig.context.clearRect(0, 0, fig.canvas.width, fig.canvas.height);\n        }\n        fig.context.drawImage(fig.imageObj, 0, 0);\n    };\n\n    this.imageObj.onunload = function () {\n        fig.ws.close();\n    };\n\n    this.ws.onmessage = this._make_on_message_function(this);\n\n    this.ondownload = ondownload;\n};\n\nmpl.figure.prototype._init_header = function () {\n    var titlebar = document.createElement('div');\n    titlebar.classList =\n        'ui-dialog-titlebar ui-widget-header ui-corner-all ui-helper-clearfix';\n    var titletext = document.createElement('div');\n    titletext.classList = 'ui-dialog-title';\n    titletext.setAttribute(\n        'style',\n        'width: 100%; text-align: center; padding: 3px;'\n    );\n    titlebar.appendChild(titletext);\n    this.root.appendChild(titlebar);\n    this.header = titletext;\n};\n\nmpl.figure.prototype._canvas_extra_style = function (_canvas_div) {};\n\nmpl.figure.prototype._root_extra_style = function (_canvas_div) {};\n\nmpl.figure.prototype._init_canvas = function () {\n    var fig = this;\n\n    var canvas_div = (this.canvas_div = document.createElement('div'));\n    canvas_div.setAttribute('tabindex', '0');\n    canvas_div.setAttribute(\n        'style',\n        'border: 1px solid #ddd;' +\n            'box-sizing: content-box;' +\n            'clear: both;' +\n            'min-height: 1px;' +\n            'min-width: 1px;' +\n            'outline: 0;' +\n            'overflow: hidden;' +\n            'position: relative;' +\n            'resize: both;' +\n            'z-index: 2;'\n    );\n\n    function on_keyboard_event_closure(name) {\n        return function (event) {\n            return fig.key_event(event, name);\n        };\n    }\n\n    canvas_div.addEventListener(\n        'keydown',\n        on_keyboard_event_closure('key_press')\n    );\n    canvas_div.addEventListener(\n        'keyup',\n        on_keyboard_event_closure('key_release')\n    );\n\n    this._canvas_extra_style(canvas_div);\n    this.root.appendChild(canvas_div);\n\n    var canvas = (this.canvas = document.createElement('canvas'));\n    canvas.classList.add('mpl-canvas');\n    canvas.setAttribute(\n        'style',\n        'box-sizing: content-box;' +\n            'pointer-events: none;' +\n            'position: relative;' +\n            'z-index: 0;'\n    );\n\n    this.context = canvas.getContext('2d');\n\n    var backingStore =\n        this.context.backingStorePixelRatio ||\n        this.context.webkitBackingStorePixelRatio ||\n        this.context.mozBackingStorePixelRatio ||\n        this.context.msBackingStorePixelRatio ||\n        this.context.oBackingStorePixelRatio ||\n        this.context.backingStorePixelRatio ||\n        1;\n\n    this.ratio = (window.devicePixelRatio || 1) / backingStore;\n\n    var rubberband_canvas = (this.rubberband_canvas = document.createElement(\n        'canvas'\n    ));\n    rubberband_canvas.setAttribute(\n        'style',\n        'box-sizing: content-box;' +\n            'left: 0;' +\n            'pointer-events: none;' +\n            'position: absolute;' +\n            'top: 0;' +\n            'z-index: 1;'\n    );\n\n    // Apply a ponyfill if ResizeObserver is not implemented by browser.\n    if (this.ResizeObserver === undefined) {\n        if (window.ResizeObserver !== undefined) {\n            this.ResizeObserver = window.ResizeObserver;\n        } else {\n            var obs = _JSXTOOLS_RESIZE_OBSERVER({});\n            this.ResizeObserver = obs.ResizeObserver;\n        }\n    }\n\n    this.resizeObserverInstance = new this.ResizeObserver(function (entries) {\n        var nentries = entries.length;\n        for (var i = 0; i < nentries; i++) {\n            var entry = entries[i];\n            var width, height;\n            if (entry.contentBoxSize) {\n                if (entry.contentBoxSize instanceof Array) {\n                    // Chrome 84 implements new version of spec.\n                    width = entry.contentBoxSize[0].inlineSize;\n                    height = entry.contentBoxSize[0].blockSize;\n                } else {\n                    // Firefox implements old version of spec.\n                    width = entry.contentBoxSize.inlineSize;\n                    height = entry.contentBoxSize.blockSize;\n                }\n            } else {\n                // Chrome <84 implements even older version of spec.\n                width = entry.contentRect.width;\n                height = entry.contentRect.height;\n            }\n\n            // Keep the size of the canvas and rubber band canvas in sync with\n            // the canvas container.\n            if (entry.devicePixelContentBoxSize) {\n                // Chrome 84 implements new version of spec.\n                canvas.setAttribute(\n                    'width',\n                    entry.devicePixelContentBoxSize[0].inlineSize\n                );\n                canvas.setAttribute(\n                    'height',\n                    entry.devicePixelContentBoxSize[0].blockSize\n                );\n            } else {\n                canvas.setAttribute('width', width * fig.ratio);\n                canvas.setAttribute('height', height * fig.ratio);\n            }\n            /* This rescales the canvas back to display pixels, so that it\n             * appears correct on HiDPI screens. */\n            canvas.style.width = width + 'px';\n            canvas.style.height = height + 'px';\n\n            rubberband_canvas.setAttribute('width', width);\n            rubberband_canvas.setAttribute('height', height);\n\n            // And update the size in Python. We ignore the initial 0/0 size\n            // that occurs as the element is placed into the DOM, which should\n            // otherwise not happen due to the minimum size styling.\n            if (fig.ws.readyState == 1 && width != 0 && height != 0) {\n                fig.request_resize(width, height);\n            }\n        }\n    });\n    this.resizeObserverInstance.observe(canvas_div);\n\n    function on_mouse_event_closure(name) {\n        /* User Agent sniffing is bad, but WebKit is busted:\n         * https://bugs.webkit.org/show_bug.cgi?id=144526\n         * https://bugs.webkit.org/show_bug.cgi?id=181818\n         * The worst that happens here is that they get an extra browser\n         * selection when dragging, if this check fails to catch them.\n         */\n        var UA = navigator.userAgent;\n        var isWebKit = /AppleWebKit/.test(UA) && !/Chrome/.test(UA);\n        if(isWebKit) {\n            return function (event) {\n                /* This prevents the web browser from automatically changing to\n                 * the text insertion cursor when the button is pressed. We\n                 * want to control all of the cursor setting manually through\n                 * the 'cursor' event from matplotlib */\n                event.preventDefault()\n                return fig.mouse_event(event, name);\n            };\n        } else {\n            return function (event) {\n                return fig.mouse_event(event, name);\n            };\n        }\n    }\n\n    canvas_div.addEventListener(\n        'mousedown',\n        on_mouse_event_closure('button_press')\n    );\n    canvas_div.addEventListener(\n        'mouseup',\n        on_mouse_event_closure('button_release')\n    );\n    canvas_div.addEventListener(\n        'dblclick',\n        on_mouse_event_closure('dblclick')\n    );\n    // Throttle sequential mouse events to 1 every 20ms.\n    canvas_div.addEventListener(\n        'mousemove',\n        on_mouse_event_closure('motion_notify')\n    );\n\n    canvas_div.addEventListener(\n        'mouseenter',\n        on_mouse_event_closure('figure_enter')\n    );\n    canvas_div.addEventListener(\n        'mouseleave',\n        on_mouse_event_closure('figure_leave')\n    );\n\n    canvas_div.addEventListener('wheel', function (event) {\n        if (event.deltaY < 0) {\n            event.step = 1;\n        } else {\n            event.step = -1;\n        }\n        on_mouse_event_closure('scroll')(event);\n    });\n\n    canvas_div.appendChild(canvas);\n    canvas_div.appendChild(rubberband_canvas);\n\n    this.rubberband_context = rubberband_canvas.getContext('2d');\n    this.rubberband_context.strokeStyle = '#000000';\n\n    this._resize_canvas = function (width, height, forward) {\n        if (forward) {\n            canvas_div.style.width = width + 'px';\n            canvas_div.style.height = height + 'px';\n        }\n    };\n\n    // Disable right mouse context menu.\n    canvas_div.addEventListener('contextmenu', function (_e) {\n        event.preventDefault();\n        return false;\n    });\n\n    function set_focus() {\n        canvas.focus();\n        canvas_div.focus();\n    }\n\n    window.setTimeout(set_focus, 100);\n};\n\nmpl.figure.prototype._init_toolbar = function () {\n    var fig = this;\n\n    var toolbar = document.createElement('div');\n    toolbar.classList = 'mpl-toolbar';\n    this.root.appendChild(toolbar);\n\n    function on_click_closure(name) {\n        return function (_event) {\n            return fig.toolbar_button_onclick(name);\n        };\n    }\n\n    function on_mouseover_closure(tooltip) {\n        return function (event) {\n            if (!event.currentTarget.disabled) {\n                return fig.toolbar_button_onmouseover(tooltip);\n            }\n        };\n    }\n\n    fig.buttons = {};\n    var buttonGroup = document.createElement('div');\n    buttonGroup.classList = 'mpl-button-group';\n    for (var toolbar_ind in mpl.toolbar_items) {\n        var name = mpl.toolbar_items[toolbar_ind][0];\n        var tooltip = mpl.toolbar_items[toolbar_ind][1];\n        var image = mpl.toolbar_items[toolbar_ind][2];\n        var method_name = mpl.toolbar_items[toolbar_ind][3];\n\n        if (!name) {\n            /* Instead of a spacer, we start a new button group. */\n            if (buttonGroup.hasChildNodes()) {\n                toolbar.appendChild(buttonGroup);\n            }\n            buttonGroup = document.createElement('div');\n            buttonGroup.classList = 'mpl-button-group';\n            continue;\n        }\n\n        var button = (fig.buttons[name] = document.createElement('button'));\n        button.classList = 'mpl-widget';\n        button.setAttribute('role', 'button');\n        button.setAttribute('aria-disabled', 'false');\n        button.addEventListener('click', on_click_closure(method_name));\n        button.addEventListener('mouseover', on_mouseover_closure(tooltip));\n\n        var icon_img = document.createElement('img');\n        icon_img.src = '_images/' + image + '.png';\n        icon_img.srcset = '_images/' + image + '_large.png 2x';\n        icon_img.alt = tooltip;\n        button.appendChild(icon_img);\n\n        buttonGroup.appendChild(button);\n    }\n\n    if (buttonGroup.hasChildNodes()) {\n        toolbar.appendChild(buttonGroup);\n    }\n\n    var fmt_picker = document.createElement('select');\n    fmt_picker.classList = 'mpl-widget';\n    toolbar.appendChild(fmt_picker);\n    this.format_dropdown = fmt_picker;\n\n    for (var ind in mpl.extensions) {\n        var fmt = mpl.extensions[ind];\n        var option = document.createElement('option');\n        option.selected = fmt === mpl.default_extension;\n        option.innerHTML = fmt;\n        fmt_picker.appendChild(option);\n    }\n\n    var status_bar = document.createElement('span');\n    status_bar.classList = 'mpl-message';\n    toolbar.appendChild(status_bar);\n    this.message = status_bar;\n};\n\nmpl.figure.prototype.request_resize = function (x_pixels, y_pixels) {\n    // Request matplotlib to resize the figure. Matplotlib will then trigger a resize in the client,\n    // which will in turn request a refresh of the image.\n    this.send_message('resize', { width: x_pixels, height: y_pixels });\n};\n\nmpl.figure.prototype.send_message = function (type, properties) {\n    properties['type'] = type;\n    properties['figure_id'] = this.id;\n    this.ws.send(JSON.stringify(properties));\n};\n\nmpl.figure.prototype.send_draw_message = function () {\n    if (!this.waiting) {\n        this.waiting = true;\n        this.ws.send(JSON.stringify({ type: 'draw', figure_id: this.id }));\n    }\n};\n\nmpl.figure.prototype.handle_save = function (fig, _msg) {\n    var format_dropdown = fig.format_dropdown;\n    var format = format_dropdown.options[format_dropdown.selectedIndex].value;\n    fig.ondownload(fig, format);\n};\n\nmpl.figure.prototype.handle_resize = function (fig, msg) {\n    var size = msg['size'];\n    if (size[0] !== fig.canvas.width || size[1] !== fig.canvas.height) {\n        fig._resize_canvas(size[0], size[1], msg['forward']);\n        fig.send_message('refresh', {});\n    }\n};\n\nmpl.figure.prototype.handle_rubberband = function (fig, msg) {\n    var x0 = msg['x0'] / fig.ratio;\n    var y0 = (fig.canvas.height - msg['y0']) / fig.ratio;\n    var x1 = msg['x1'] / fig.ratio;\n    var y1 = (fig.canvas.height - msg['y1']) / fig.ratio;\n    x0 = Math.floor(x0) + 0.5;\n    y0 = Math.floor(y0) + 0.5;\n    x1 = Math.floor(x1) + 0.5;\n    y1 = Math.floor(y1) + 0.5;\n    var min_x = Math.min(x0, x1);\n    var min_y = Math.min(y0, y1);\n    var width = Math.abs(x1 - x0);\n    var height = Math.abs(y1 - y0);\n\n    fig.rubberband_context.clearRect(\n        0,\n        0,\n        fig.canvas.width / fig.ratio,\n        fig.canvas.height / fig.ratio\n    );\n\n    fig.rubberband_context.strokeRect(min_x, min_y, width, height);\n};\n\nmpl.figure.prototype.handle_figure_label = function (fig, msg) {\n    // Updates the figure title.\n    fig.header.textContent = msg['label'];\n};\n\nmpl.figure.prototype.handle_cursor = function (fig, msg) {\n    fig.canvas_div.style.cursor = msg['cursor'];\n};\n\nmpl.figure.prototype.handle_message = function (fig, msg) {\n    fig.message.textContent = msg['message'];\n};\n\nmpl.figure.prototype.handle_draw = function (fig, _msg) {\n    // Request the server to send over a new figure.\n    fig.send_draw_message();\n};\n\nmpl.figure.prototype.handle_image_mode = function (fig, msg) {\n    fig.image_mode = msg['mode'];\n};\n\nmpl.figure.prototype.handle_history_buttons = function (fig, msg) {\n    for (var key in msg) {\n        if (!(key in fig.buttons)) {\n            continue;\n        }\n        fig.buttons[key].disabled = !msg[key];\n        fig.buttons[key].setAttribute('aria-disabled', !msg[key]);\n    }\n};\n\nmpl.figure.prototype.handle_navigate_mode = function (fig, msg) {\n    if (msg['mode'] === 'PAN') {\n        fig.buttons['Pan'].classList.add('active');\n        fig.buttons['Zoom'].classList.remove('active');\n    } else if (msg['mode'] === 'ZOOM') {\n        fig.buttons['Pan'].classList.remove('active');\n        fig.buttons['Zoom'].classList.add('active');\n    } else {\n        fig.buttons['Pan'].classList.remove('active');\n        fig.buttons['Zoom'].classList.remove('active');\n    }\n};\n\nmpl.figure.prototype.updated_canvas_event = function () {\n    // Called whenever the canvas gets updated.\n    this.send_message('ack', {});\n};\n\n// A function to construct a web socket function for onmessage handling.\n// Called in the figure constructor.\nmpl.figure.prototype._make_on_message_function = function (fig) {\n    return function socket_on_message(evt) {\n        if (evt.data instanceof Blob) {\n            var img = evt.data;\n            if (img.type !== 'image/png') {\n                /* FIXME: We get \"Resource interpreted as Image but\n                 * transferred with MIME type text/plain:\" errors on\n                 * Chrome.  But how to set the MIME type?  It doesn't seem\n                 * to be part of the websocket stream */\n                img.type = 'image/png';\n            }\n\n            /* Free the memory for the previous frames */\n            if (fig.imageObj.src) {\n                (window.URL || window.webkitURL).revokeObjectURL(\n                    fig.imageObj.src\n                );\n            }\n\n            fig.imageObj.src = (window.URL || window.webkitURL).createObjectURL(\n                img\n            );\n            fig.updated_canvas_event();\n            fig.waiting = false;\n            return;\n        } else if (\n            typeof evt.data === 'string' &&\n            evt.data.slice(0, 21) === 'data:image/png;base64'\n        ) {\n            fig.imageObj.src = evt.data;\n            fig.updated_canvas_event();\n            fig.waiting = false;\n            return;\n        }\n\n        var msg = JSON.parse(evt.data);\n        var msg_type = msg['type'];\n\n        // Call the  \"handle_{type}\" callback, which takes\n        // the figure and JSON message as its only arguments.\n        try {\n            var callback = fig['handle_' + msg_type];\n        } catch (e) {\n            console.log(\n                \"No handler for the '\" + msg_type + \"' message type: \",\n                msg\n            );\n            return;\n        }\n\n        if (callback) {\n            try {\n                // console.log(\"Handling '\" + msg_type + \"' message: \", msg);\n                callback(fig, msg);\n            } catch (e) {\n                console.log(\n                    \"Exception inside the 'handler_\" + msg_type + \"' callback:\",\n                    e,\n                    e.stack,\n                    msg\n                );\n            }\n        }\n    };\n};\n\nfunction getModifiers(event) {\n    var mods = [];\n    if (event.ctrlKey) {\n        mods.push('ctrl');\n    }\n    if (event.altKey) {\n        mods.push('alt');\n    }\n    if (event.shiftKey) {\n        mods.push('shift');\n    }\n    if (event.metaKey) {\n        mods.push('meta');\n    }\n    return mods;\n}\n\n/*\n * return a copy of an object with only non-object keys\n * we need this to avoid circular references\n * https://stackoverflow.com/a/24161582/3208463\n */\nfunction simpleKeys(original) {\n    return Object.keys(original).reduce(function (obj, key) {\n        if (typeof original[key] !== 'object') {\n            obj[key] = original[key];\n        }\n        return obj;\n    }, {});\n}\n\nmpl.figure.prototype.mouse_event = function (event, name) {\n    if (name === 'button_press') {\n        this.canvas.focus();\n        this.canvas_div.focus();\n    }\n\n    // from https://stackoverflow.com/q/1114465\n    var boundingRect = this.canvas.getBoundingClientRect();\n    var x = (event.clientX - boundingRect.left) * this.ratio;\n    var y = (event.clientY - boundingRect.top) * this.ratio;\n\n    this.send_message(name, {\n        x: x,\n        y: y,\n        button: event.button,\n        step: event.step,\n        modifiers: getModifiers(event),\n        guiEvent: simpleKeys(event),\n    });\n\n    return false;\n};\n\nmpl.figure.prototype._key_event_extra = function (_event, _name) {\n    // Handle any extra behaviour associated with a key event\n};\n\nmpl.figure.prototype.key_event = function (event, name) {\n    // Prevent repeat events\n    if (name === 'key_press') {\n        if (event.key === this._key) {\n            return;\n        } else {\n            this._key = event.key;\n        }\n    }\n    if (name === 'key_release') {\n        this._key = null;\n    }\n\n    var value = '';\n    if (event.ctrlKey && event.key !== 'Control') {\n        value += 'ctrl+';\n    }\n    else if (event.altKey && event.key !== 'Alt') {\n        value += 'alt+';\n    }\n    else if (event.shiftKey && event.key !== 'Shift') {\n        value += 'shift+';\n    }\n\n    value += 'k' + event.key;\n\n    this._key_event_extra(event, name);\n\n    this.send_message(name, { key: value, guiEvent: simpleKeys(event) });\n    return false;\n};\n\nmpl.figure.prototype.toolbar_button_onclick = function (name) {\n    if (name === 'download') {\n        this.handle_save(this, null);\n    } else {\n        this.send_message('toolbar_button', { name: name });\n    }\n};\n\nmpl.figure.prototype.toolbar_button_onmouseover = function (tooltip) {\n    this.message.textContent = tooltip;\n};\n\n///////////////// REMAINING CONTENT GENERATED BY embed_js.py /////////////////\n// prettier-ignore\nvar _JSXTOOLS_RESIZE_OBSERVER=function(A){var t,i=new WeakMap,n=new WeakMap,a=new WeakMap,r=new WeakMap,o=new Set;function s(e){if(!(this instanceof s))throw new TypeError(\"Constructor requires 'new' operator\");i.set(this,e)}function h(){throw new TypeError(\"Function is not a constructor\")}function c(e,t,i,n){e=0 in arguments?Number(arguments[0]):0,t=1 in arguments?Number(arguments[1]):0,i=2 in arguments?Number(arguments[2]):0,n=3 in arguments?Number(arguments[3]):0,this.right=(this.x=this.left=e)+(this.width=i),this.bottom=(this.y=this.top=t)+(this.height=n),Object.freeze(this)}function d(){t=requestAnimationFrame(d);var s=new WeakMap,p=new Set;o.forEach((function(t){r.get(t).forEach((function(i){var r=t instanceof window.SVGElement,o=a.get(t),d=r?0:parseFloat(o.paddingTop),f=r?0:parseFloat(o.paddingRight),l=r?0:parseFloat(o.paddingBottom),u=r?0:parseFloat(o.paddingLeft),g=r?0:parseFloat(o.borderTopWidth),m=r?0:parseFloat(o.borderRightWidth),w=r?0:parseFloat(o.borderBottomWidth),b=u+f,F=d+l,v=(r?0:parseFloat(o.borderLeftWidth))+m,W=g+w,y=r?0:t.offsetHeight-W-t.clientHeight,E=r?0:t.offsetWidth-v-t.clientWidth,R=b+v,z=F+W,M=r?t.width:parseFloat(o.width)-R-E,O=r?t.height:parseFloat(o.height)-z-y;if(n.has(t)){var k=n.get(t);if(k[0]===M&&k[1]===O)return}n.set(t,[M,O]);var S=Object.create(h.prototype);S.target=t,S.contentRect=new c(u,d,M,O),s.has(i)||(s.set(i,[]),p.add(i)),s.get(i).push(S)}))})),p.forEach((function(e){i.get(e).call(e,s.get(e),e)}))}return s.prototype.observe=function(i){if(i instanceof window.Element){r.has(i)||(r.set(i,new Set),o.add(i),a.set(i,window.getComputedStyle(i)));var n=r.get(i);n.has(this)||n.add(this),cancelAnimationFrame(t),t=requestAnimationFrame(d)}},s.prototype.unobserve=function(i){if(i instanceof window.Element&&r.has(i)){var n=r.get(i);n.has(this)&&(n.delete(this),n.size||(r.delete(i),o.delete(i))),n.size||r.delete(i),o.size||cancelAnimationFrame(t)}},A.DOMRectReadOnly=c,A.ResizeObserver=s,A.ResizeObserverEntry=h,A}; // eslint-disable-line\nmpl.toolbar_items = [[\"Home\", \"Reset original view\", \"fa fa-home\", \"home\"], [\"Back\", \"Back to previous view\", \"fa fa-arrow-left\", \"back\"], [\"Forward\", \"Forward to next view\", \"fa fa-arrow-right\", \"forward\"], [\"\", \"\", \"\", \"\"], [\"Pan\", \"Left button pans, Right button zooms\\nx/y fixes axis, CTRL fixes aspect\", \"fa fa-arrows\", \"pan\"], [\"Zoom\", \"Zoom to rectangle\\nx/y fixes axis\", \"fa fa-square-o\", \"zoom\"], [\"\", \"\", \"\", \"\"], [\"Download\", \"Download plot\", \"fa fa-floppy-o\", \"download\"]];\n\nmpl.extensions = [\"eps\", \"jpeg\", \"pgf\", \"pdf\", \"png\", \"ps\", \"raw\", \"svg\", \"tif\", \"webp\"];\n\nmpl.default_extension = \"png\";/* global mpl */\n\nvar comm_websocket_adapter = function (comm) {\n    // Create a \"websocket\"-like object which calls the given IPython comm\n    // object with the appropriate methods. Currently this is a non binary\n    // socket, so there is still some room for performance tuning.\n    var ws = {};\n\n    ws.binaryType = comm.kernel.ws.binaryType;\n    ws.readyState = comm.kernel.ws.readyState;\n    function updateReadyState(_event) {\n        if (comm.kernel.ws) {\n            ws.readyState = comm.kernel.ws.readyState;\n        } else {\n            ws.readyState = 3; // Closed state.\n        }\n    }\n    comm.kernel.ws.addEventListener('open', updateReadyState);\n    comm.kernel.ws.addEventListener('close', updateReadyState);\n    comm.kernel.ws.addEventListener('error', updateReadyState);\n\n    ws.close = function () {\n        comm.close();\n    };\n    ws.send = function (m) {\n        //console.log('sending', m);\n        comm.send(m);\n    };\n    // Register the callback with on_msg.\n    comm.on_msg(function (msg) {\n        //console.log('receiving', msg['content']['data'], msg);\n        var data = msg['content']['data'];\n        if (data['blob'] !== undefined) {\n            data = {\n                data: new Blob(msg['buffers'], { type: data['blob'] }),\n            };\n        }\n        // Pass the mpl event to the overridden (by mpl) onmessage function.\n        ws.onmessage(data);\n    });\n    return ws;\n};\n\nmpl.mpl_figure_comm = function (comm, msg) {\n    // This is the function which gets called when the mpl process\n    // starts-up an IPython Comm through the \"matplotlib\" channel.\n\n    var id = msg.content.data.id;\n    // Get hold of the div created by the display call when the Comm\n    // socket was opened in Python.\n    var element = document.getElementById(id);\n    var ws_proxy = comm_websocket_adapter(comm);\n\n    function ondownload(figure, _format) {\n        window.open(figure.canvas.toDataURL());\n    }\n\n    var fig = new mpl.figure(id, ws_proxy, ondownload, element);\n\n    // Call onopen now - mpl needs it, as it is assuming we've passed it a real\n    // web socket which is closed, not our websocket->open comm proxy.\n    ws_proxy.onopen();\n\n    fig.parent_element = element;\n    fig.cell_info = mpl.find_output_cell(\"<div id='\" + id + \"'></div>\");\n    if (!fig.cell_info) {\n        console.error('Failed to find cell for figure', id, fig);\n        return;\n    }\n    fig.cell_info[0].output_area.element.on(\n        'cleared',\n        { fig: fig },\n        fig._remove_fig_handler\n    );\n};\n\nmpl.figure.prototype.handle_close = function (fig, msg) {\n    var width = fig.canvas.width / fig.ratio;\n    fig.cell_info[0].output_area.element.off(\n        'cleared',\n        fig._remove_fig_handler\n    );\n    fig.resizeObserverInstance.unobserve(fig.canvas_div);\n\n    // Update the output cell to use the data from the current canvas.\n    fig.push_to_output();\n    var dataURL = fig.canvas.toDataURL();\n    // Re-enable the keyboard manager in IPython - without this line, in FF,\n    // the notebook keyboard shortcuts fail.\n    IPython.keyboard_manager.enable();\n    fig.parent_element.innerHTML =\n        '<img src=\"' + dataURL + '\" width=\"' + width + '\">';\n    fig.close_ws(fig, msg);\n};\n\nmpl.figure.prototype.close_ws = function (fig, msg) {\n    fig.send_message('closing', msg);\n    // fig.ws.close()\n};\n\nmpl.figure.prototype.push_to_output = function (_remove_interactive) {\n    // Turn the data on the canvas into data in the output cell.\n    var width = this.canvas.width / this.ratio;\n    var dataURL = this.canvas.toDataURL();\n    this.cell_info[1]['text/html'] =\n        '<img src=\"' + dataURL + '\" width=\"' + width + '\">';\n};\n\nmpl.figure.prototype.updated_canvas_event = function () {\n    // Tell IPython that the notebook contents must change.\n    IPython.notebook.set_dirty(true);\n    this.send_message('ack', {});\n    var fig = this;\n    // Wait a second, then push the new image to the DOM so\n    // that it is saved nicely (might be nice to debounce this).\n    setTimeout(function () {\n        fig.push_to_output();\n    }, 1000);\n};\n\nmpl.figure.prototype._init_toolbar = function () {\n    var fig = this;\n\n    var toolbar = document.createElement('div');\n    toolbar.classList = 'btn-toolbar';\n    this.root.appendChild(toolbar);\n\n    function on_click_closure(name) {\n        return function (_event) {\n            return fig.toolbar_button_onclick(name);\n        };\n    }\n\n    function on_mouseover_closure(tooltip) {\n        return function (event) {\n            if (!event.currentTarget.disabled) {\n                return fig.toolbar_button_onmouseover(tooltip);\n            }\n        };\n    }\n\n    fig.buttons = {};\n    var buttonGroup = document.createElement('div');\n    buttonGroup.classList = 'btn-group';\n    var button;\n    for (var toolbar_ind in mpl.toolbar_items) {\n        var name = mpl.toolbar_items[toolbar_ind][0];\n        var tooltip = mpl.toolbar_items[toolbar_ind][1];\n        var image = mpl.toolbar_items[toolbar_ind][2];\n        var method_name = mpl.toolbar_items[toolbar_ind][3];\n\n        if (!name) {\n            /* Instead of a spacer, we start a new button group. */\n            if (buttonGroup.hasChildNodes()) {\n                toolbar.appendChild(buttonGroup);\n            }\n            buttonGroup = document.createElement('div');\n            buttonGroup.classList = 'btn-group';\n            continue;\n        }\n\n        button = fig.buttons[name] = document.createElement('button');\n        button.classList = 'btn btn-default';\n        button.href = '#';\n        button.title = name;\n        button.innerHTML = '<i class=\"fa ' + image + ' fa-lg\"></i>';\n        button.addEventListener('click', on_click_closure(method_name));\n        button.addEventListener('mouseover', on_mouseover_closure(tooltip));\n        buttonGroup.appendChild(button);\n    }\n\n    if (buttonGroup.hasChildNodes()) {\n        toolbar.appendChild(buttonGroup);\n    }\n\n    // Add the status bar.\n    var status_bar = document.createElement('span');\n    status_bar.classList = 'mpl-message pull-right';\n    toolbar.appendChild(status_bar);\n    this.message = status_bar;\n\n    // Add the close button to the window.\n    var buttongrp = document.createElement('div');\n    buttongrp.classList = 'btn-group inline pull-right';\n    button = document.createElement('button');\n    button.classList = 'btn btn-mini btn-primary';\n    button.href = '#';\n    button.title = 'Stop Interaction';\n    button.innerHTML = '<i class=\"fa fa-power-off icon-remove icon-large\"></i>';\n    button.addEventListener('click', function (_evt) {\n        fig.handle_close(fig, {});\n    });\n    button.addEventListener(\n        'mouseover',\n        on_mouseover_closure('Stop Interaction')\n    );\n    buttongrp.appendChild(button);\n    var titlebar = this.root.querySelector('.ui-dialog-titlebar');\n    titlebar.insertBefore(buttongrp, titlebar.firstChild);\n};\n\nmpl.figure.prototype._remove_fig_handler = function (event) {\n    var fig = event.data.fig;\n    if (event.target !== this) {\n        // Ignore bubbled events from children.\n        return;\n    }\n    fig.close_ws(fig, {});\n};\n\nmpl.figure.prototype._root_extra_style = function (el) {\n    el.style.boxSizing = 'content-box'; // override notebook setting of border-box.\n};\n\nmpl.figure.prototype._canvas_extra_style = function (el) {\n    // this is important to make the div 'focusable\n    el.setAttribute('tabindex', 0);\n    // reach out to IPython and tell the keyboard manager to turn it's self\n    // off when our div gets focus\n\n    // location in version 3\n    if (IPython.notebook.keyboard_manager) {\n        IPython.notebook.keyboard_manager.register_events(el);\n    } else {\n        // location in version 2\n        IPython.keyboard_manager.register_events(el);\n    }\n};\n\nmpl.figure.prototype._key_event_extra = function (event, _name) {\n    // Check for shift+enter\n    if (event.shiftKey && event.which === 13) {\n        this.canvas_div.blur();\n        // select the cell after this one\n        var index = IPython.notebook.find_cell_index(this.cell_info[0]);\n        IPython.notebook.select(index + 1);\n    }\n};\n\nmpl.figure.prototype.handle_save = function (fig, _msg) {\n    fig.ondownload(fig, null);\n};\n\nmpl.find_output_cell = function (html_output) {\n    // Return the cell and output element which can be found *uniquely* in the notebook.\n    // Note - this is a bit hacky, but it is done because the \"notebook_saving.Notebook\"\n    // IPython event is triggered only after the cells have been serialised, which for\n    // our purposes (turning an active figure into a static one), is too late.\n    var cells = IPython.notebook.get_cells();\n    var ncells = cells.length;\n    for (var i = 0; i < ncells; i++) {\n        var cell = cells[i];\n        if (cell.cell_type === 'code') {\n            for (var j = 0; j < cell.output_area.outputs.length; j++) {\n                var data = cell.output_area.outputs[j];\n                if (data.data) {\n                    // IPython >= 3 moved mimebundle to data attribute of output\n                    data = data.data;\n                }\n                if (data['text/html'] === html_output) {\n                    return [cell, data, j];\n                }\n            }\n        }\n    }\n};\n\n// Register the function which deals with the matplotlib target/channel.\n// The kernel may be null if the page has been refreshed.\nif (IPython.notebook.kernel !== null) {\n    IPython.notebook.kernel.comm_manager.register_target(\n        'matplotlib',\n        mpl.mpl_figure_comm\n    );\n}\n",
      "text/plain": [
       "<IPython.core.display.Javascript object>"
      ]
     },
     "metadata": {},
     "output_type": "display_data"
    },
    {
     "data": {
      "text/html": [
       "<div id='ce81ca78-d0ca-44d4-b045-6cc0d071222c'></div>"
      ],
      "text/plain": [
       "<IPython.core.display.HTML object>"
      ]
     },
     "metadata": {},
     "output_type": "display_data"
    },
    {
     "ename": "KeyboardInterrupt",
     "evalue": "",
     "output_type": "error",
     "traceback": [
      "\u001b[1;31m---------------------------------------------------------------------------\u001b[0m",
      "\u001b[1;31mKeyboardInterrupt\u001b[0m                         Traceback (most recent call last)",
      "\u001b[1;32mc:\\Users\\Michel_GPC\\Documents\\1_CUCEI_2023\\UP_2023\\EjemplosNew_2023\\Manorobot.ipynb Cell 15\u001b[0m line \u001b[0;36m3\n\u001b[0;32m     <a href='vscode-notebook-cell:/c%3A/Users/Michel_GPC/Documents/1_CUCEI_2023/UP_2023/EjemplosNew_2023/Manorobot.ipynb#X16sZmlsZQ%3D%3D?line=35'>36</a>\u001b[0m \u001b[39mfor\u001b[39;00m angle2 \u001b[39min\u001b[39;00m np\u001b[39m.\u001b[39mlinspace(\u001b[39m0\u001b[39m, \u001b[39m2\u001b[39m\u001b[39m*\u001b[39mnp\u001b[39m.\u001b[39mpi, \u001b[39m100\u001b[39m):\n\u001b[0;32m     <a href='vscode-notebook-cell:/c%3A/Users/Michel_GPC/Documents/1_CUCEI_2023/UP_2023/EjemplosNew_2023/Manorobot.ipynb#X16sZmlsZQ%3D%3D?line=36'>37</a>\u001b[0m     \u001b[39m# Evaluar las matrices de transformación con los ángulos actuales\u001b[39;00m\n\u001b[0;32m     <a href='vscode-notebook-cell:/c%3A/Users/Michel_GPC/Documents/1_CUCEI_2023/UP_2023/EjemplosNew_2023/Manorobot.ipynb#X16sZmlsZQ%3D%3D?line=37'>38</a>\u001b[0m     T1_eval \u001b[39m=\u001b[39m T1\u001b[39m.\u001b[39msubs({theta1: angle1, \u001b[39m*\u001b[39m\u001b[39m*\u001b[39mlink_lengths})\n\u001b[1;32m---> <a href='vscode-notebook-cell:/c%3A/Users/Michel_GPC/Documents/1_CUCEI_2023/UP_2023/EjemplosNew_2023/Manorobot.ipynb#X16sZmlsZQ%3D%3D?line=38'>39</a>\u001b[0m     T2_eval \u001b[39m=\u001b[39m T2\u001b[39m.\u001b[39msubs({theta2: angle2, \u001b[39m*\u001b[39m\u001b[39m*\u001b[39mlink_lengths})\n\u001b[0;32m     <a href='vscode-notebook-cell:/c%3A/Users/Michel_GPC/Documents/1_CUCEI_2023/UP_2023/EjemplosNew_2023/Manorobot.ipynb#X16sZmlsZQ%3D%3D?line=39'>40</a>\u001b[0m     T_eval \u001b[39m=\u001b[39m T\u001b[39m.\u001b[39msubs({theta1: angle1, theta2: angle2, \u001b[39m*\u001b[39m\u001b[39m*\u001b[39mlink_lengths})\n\u001b[0;32m     <a href='vscode-notebook-cell:/c%3A/Users/Michel_GPC/Documents/1_CUCEI_2023/UP_2023/EjemplosNew_2023/Manorobot.ipynb#X16sZmlsZQ%3D%3D?line=41'>42</a>\u001b[0m     \u001b[39m# Extraer las posiciones de las articulaciones y del extremo efectuador\u001b[39;00m\n",
      "File \u001b[1;32mc:\\Users\\Michel_GPC\\.conda\\envs\\MyFastAPI\\Lib\\site-packages\\sympy\\matrices\\common.py:2357\u001b[0m, in \u001b[0;36mMatrixOperations.subs\u001b[1;34m(self, *args, **kwargs)\u001b[0m\n\u001b[0;32m   2354\u001b[0m \u001b[39mif\u001b[39;00m \u001b[39mlen\u001b[39m(args) \u001b[39m==\u001b[39m \u001b[39m1\u001b[39m \u001b[39mand\u001b[39;00m  \u001b[39mnot\u001b[39;00m \u001b[39misinstance\u001b[39m(args[\u001b[39m0\u001b[39m], (\u001b[39mdict\u001b[39m, \u001b[39mset\u001b[39m)) \u001b[39mand\u001b[39;00m \u001b[39miter\u001b[39m(args[\u001b[39m0\u001b[39m]) \u001b[39mand\u001b[39;00m \u001b[39mnot\u001b[39;00m is_sequence(args[\u001b[39m0\u001b[39m]):\n\u001b[0;32m   2355\u001b[0m     args \u001b[39m=\u001b[39m (\u001b[39mlist\u001b[39m(args[\u001b[39m0\u001b[39m]),)\n\u001b[1;32m-> 2357\u001b[0m \u001b[39mreturn\u001b[39;00m \u001b[39mself\u001b[39m\u001b[39m.\u001b[39mapplyfunc(\u001b[39mlambda\u001b[39;00m x: x\u001b[39m.\u001b[39msubs(\u001b[39m*\u001b[39margs, \u001b[39m*\u001b[39m\u001b[39m*\u001b[39mkwargs))\n",
      "File \u001b[1;32mc:\\Users\\Michel_GPC\\.conda\\envs\\MyFastAPI\\Lib\\site-packages\\sympy\\matrices\\common.py:1989\u001b[0m, in \u001b[0;36mMatrixOperations.applyfunc\u001b[1;34m(self, f)\u001b[0m\n\u001b[0;32m   1986\u001b[0m \u001b[39mif\u001b[39;00m \u001b[39mnot\u001b[39;00m callable(f):\n\u001b[0;32m   1987\u001b[0m     \u001b[39mraise\u001b[39;00m \u001b[39mTypeError\u001b[39;00m(\u001b[39m\"\u001b[39m\u001b[39m`f` must be callable.\u001b[39m\u001b[39m\"\u001b[39m)\n\u001b[1;32m-> 1989\u001b[0m \u001b[39mreturn\u001b[39;00m \u001b[39mself\u001b[39m\u001b[39m.\u001b[39m_eval_applyfunc(f)\n",
      "File \u001b[1;32mc:\\Users\\Michel_GPC\\.conda\\envs\\MyFastAPI\\Lib\\site-packages\\sympy\\matrices\\common.py:1931\u001b[0m, in \u001b[0;36mMatrixOperations._eval_applyfunc\u001b[1;34m(self, f)\u001b[0m\n\u001b[0;32m   1930\u001b[0m \u001b[39mdef\u001b[39;00m \u001b[39m_eval_applyfunc\u001b[39m(\u001b[39mself\u001b[39m, f):\n\u001b[1;32m-> 1931\u001b[0m     out \u001b[39m=\u001b[39m \u001b[39mself\u001b[39m\u001b[39m.\u001b[39m_new(\u001b[39mself\u001b[39m\u001b[39m.\u001b[39mrows, \u001b[39mself\u001b[39m\u001b[39m.\u001b[39mcols, [f(x) \u001b[39mfor\u001b[39;00m x \u001b[39min\u001b[39;00m \u001b[39mself\u001b[39m])\n\u001b[0;32m   1932\u001b[0m     \u001b[39mreturn\u001b[39;00m out\n",
      "File \u001b[1;32mc:\\Users\\Michel_GPC\\.conda\\envs\\MyFastAPI\\Lib\\site-packages\\sympy\\matrices\\common.py:1931\u001b[0m, in \u001b[0;36m<listcomp>\u001b[1;34m(.0)\u001b[0m\n\u001b[0;32m   1930\u001b[0m \u001b[39mdef\u001b[39;00m \u001b[39m_eval_applyfunc\u001b[39m(\u001b[39mself\u001b[39m, f):\n\u001b[1;32m-> 1931\u001b[0m     out \u001b[39m=\u001b[39m \u001b[39mself\u001b[39m\u001b[39m.\u001b[39m_new(\u001b[39mself\u001b[39m\u001b[39m.\u001b[39mrows, \u001b[39mself\u001b[39m\u001b[39m.\u001b[39mcols, [f(x) \u001b[39mfor\u001b[39;00m x \u001b[39min\u001b[39;00m \u001b[39mself\u001b[39m])\n\u001b[0;32m   1932\u001b[0m     \u001b[39mreturn\u001b[39;00m out\n",
      "File \u001b[1;32mc:\\Users\\Michel_GPC\\.conda\\envs\\MyFastAPI\\Lib\\site-packages\\sympy\\matrices\\common.py:2357\u001b[0m, in \u001b[0;36mMatrixOperations.subs.<locals>.<lambda>\u001b[1;34m(x)\u001b[0m\n\u001b[0;32m   2354\u001b[0m \u001b[39mif\u001b[39;00m \u001b[39mlen\u001b[39m(args) \u001b[39m==\u001b[39m \u001b[39m1\u001b[39m \u001b[39mand\u001b[39;00m  \u001b[39mnot\u001b[39;00m \u001b[39misinstance\u001b[39m(args[\u001b[39m0\u001b[39m], (\u001b[39mdict\u001b[39m, \u001b[39mset\u001b[39m)) \u001b[39mand\u001b[39;00m \u001b[39miter\u001b[39m(args[\u001b[39m0\u001b[39m]) \u001b[39mand\u001b[39;00m \u001b[39mnot\u001b[39;00m is_sequence(args[\u001b[39m0\u001b[39m]):\n\u001b[0;32m   2355\u001b[0m     args \u001b[39m=\u001b[39m (\u001b[39mlist\u001b[39m(args[\u001b[39m0\u001b[39m]),)\n\u001b[1;32m-> 2357\u001b[0m \u001b[39mreturn\u001b[39;00m \u001b[39mself\u001b[39m\u001b[39m.\u001b[39mapplyfunc(\u001b[39mlambda\u001b[39;00m x: x\u001b[39m.\u001b[39msubs(\u001b[39m*\u001b[39margs, \u001b[39m*\u001b[39m\u001b[39m*\u001b[39mkwargs))\n",
      "File \u001b[1;32mc:\\Users\\Michel_GPC\\.conda\\envs\\MyFastAPI\\Lib\\site-packages\\sympy\\core\\basic.py:1040\u001b[0m, in \u001b[0;36mBasic.subs\u001b[1;34m(self, *args, **kwargs)\u001b[0m\n\u001b[0;32m   1038\u001b[0m rv \u001b[39m=\u001b[39m \u001b[39mself\u001b[39m\n\u001b[0;32m   1039\u001b[0m \u001b[39mfor\u001b[39;00m old, new \u001b[39min\u001b[39;00m sequence:\n\u001b[1;32m-> 1040\u001b[0m     rv \u001b[39m=\u001b[39m rv\u001b[39m.\u001b[39m_subs(old, new, \u001b[39m*\u001b[39m\u001b[39m*\u001b[39mkwargs)\n\u001b[0;32m   1041\u001b[0m     \u001b[39mif\u001b[39;00m \u001b[39mnot\u001b[39;00m \u001b[39misinstance\u001b[39m(rv, Basic):\n\u001b[0;32m   1042\u001b[0m         \u001b[39mbreak\u001b[39;00m\n",
      "File \u001b[1;32mc:\\Users\\Michel_GPC\\.conda\\envs\\MyFastAPI\\Lib\\site-packages\\sympy\\core\\cache.py:72\u001b[0m, in \u001b[0;36m__cacheit.<locals>.func_wrapper.<locals>.wrapper\u001b[1;34m(*args, **kwargs)\u001b[0m\n\u001b[0;32m     69\u001b[0m \u001b[39m@wraps\u001b[39m(func)\n\u001b[0;32m     70\u001b[0m \u001b[39mdef\u001b[39;00m \u001b[39mwrapper\u001b[39m(\u001b[39m*\u001b[39margs, \u001b[39m*\u001b[39m\u001b[39m*\u001b[39mkwargs):\n\u001b[0;32m     71\u001b[0m     \u001b[39mtry\u001b[39;00m:\n\u001b[1;32m---> 72\u001b[0m         retval \u001b[39m=\u001b[39m cfunc(\u001b[39m*\u001b[39margs, \u001b[39m*\u001b[39m\u001b[39m*\u001b[39mkwargs)\n\u001b[0;32m     73\u001b[0m     \u001b[39mexcept\u001b[39;00m \u001b[39mTypeError\u001b[39;00m \u001b[39mas\u001b[39;00m e:\n\u001b[0;32m     74\u001b[0m         \u001b[39mif\u001b[39;00m \u001b[39mnot\u001b[39;00m e\u001b[39m.\u001b[39margs \u001b[39mor\u001b[39;00m \u001b[39mnot\u001b[39;00m e\u001b[39m.\u001b[39margs[\u001b[39m0\u001b[39m]\u001b[39m.\u001b[39mstartswith(\u001b[39m'\u001b[39m\u001b[39munhashable type:\u001b[39m\u001b[39m'\u001b[39m):\n",
      "File \u001b[1;32mc:\\Users\\Michel_GPC\\.conda\\envs\\MyFastAPI\\Lib\\site-packages\\sympy\\core\\basic.py:1154\u001b[0m, in \u001b[0;36mBasic._subs\u001b[1;34m(self, old, new, **hints)\u001b[0m\n\u001b[0;32m   1152\u001b[0m rv \u001b[39m=\u001b[39m \u001b[39mself\u001b[39m\u001b[39m.\u001b[39m_eval_subs(old, new)\n\u001b[0;32m   1153\u001b[0m \u001b[39mif\u001b[39;00m rv \u001b[39mis\u001b[39;00m \u001b[39mNone\u001b[39;00m:\n\u001b[1;32m-> 1154\u001b[0m     rv \u001b[39m=\u001b[39m fallback(\u001b[39mself\u001b[39m, old, new)\n\u001b[0;32m   1155\u001b[0m \u001b[39mreturn\u001b[39;00m rv\n",
      "File \u001b[1;32mc:\\Users\\Michel_GPC\\.conda\\envs\\MyFastAPI\\Lib\\site-packages\\sympy\\core\\basic.py:1131\u001b[0m, in \u001b[0;36mBasic._subs.<locals>.fallback\u001b[1;34m(self, old, new)\u001b[0m\n\u001b[0;32m   1129\u001b[0m         args[i] \u001b[39m=\u001b[39m arg\n\u001b[0;32m   1130\u001b[0m \u001b[39mif\u001b[39;00m hit:\n\u001b[1;32m-> 1131\u001b[0m     rv \u001b[39m=\u001b[39m \u001b[39mself\u001b[39m\u001b[39m.\u001b[39mfunc(\u001b[39m*\u001b[39margs)\n\u001b[0;32m   1132\u001b[0m     hack2 \u001b[39m=\u001b[39m hints\u001b[39m.\u001b[39mget(\u001b[39m'\u001b[39m\u001b[39mhack2\u001b[39m\u001b[39m'\u001b[39m, \u001b[39mFalse\u001b[39;00m)\n\u001b[0;32m   1133\u001b[0m     \u001b[39mif\u001b[39;00m hack2 \u001b[39mand\u001b[39;00m \u001b[39mself\u001b[39m\u001b[39m.\u001b[39mis_Mul \u001b[39mand\u001b[39;00m \u001b[39mnot\u001b[39;00m rv\u001b[39m.\u001b[39mis_Mul:  \u001b[39m# 2-arg hack\u001b[39;00m\n",
      "File \u001b[1;32mc:\\Users\\Michel_GPC\\.conda\\envs\\MyFastAPI\\Lib\\site-packages\\sympy\\core\\cache.py:72\u001b[0m, in \u001b[0;36m__cacheit.<locals>.func_wrapper.<locals>.wrapper\u001b[1;34m(*args, **kwargs)\u001b[0m\n\u001b[0;32m     69\u001b[0m \u001b[39m@wraps\u001b[39m(func)\n\u001b[0;32m     70\u001b[0m \u001b[39mdef\u001b[39;00m \u001b[39mwrapper\u001b[39m(\u001b[39m*\u001b[39margs, \u001b[39m*\u001b[39m\u001b[39m*\u001b[39mkwargs):\n\u001b[0;32m     71\u001b[0m     \u001b[39mtry\u001b[39;00m:\n\u001b[1;32m---> 72\u001b[0m         retval \u001b[39m=\u001b[39m cfunc(\u001b[39m*\u001b[39margs, \u001b[39m*\u001b[39m\u001b[39m*\u001b[39mkwargs)\n\u001b[0;32m     73\u001b[0m     \u001b[39mexcept\u001b[39;00m \u001b[39mTypeError\u001b[39;00m \u001b[39mas\u001b[39;00m e:\n\u001b[0;32m     74\u001b[0m         \u001b[39mif\u001b[39;00m \u001b[39mnot\u001b[39;00m e\u001b[39m.\u001b[39margs \u001b[39mor\u001b[39;00m \u001b[39mnot\u001b[39;00m e\u001b[39m.\u001b[39margs[\u001b[39m0\u001b[39m]\u001b[39m.\u001b[39mstartswith(\u001b[39m'\u001b[39m\u001b[39munhashable type:\u001b[39m\u001b[39m'\u001b[39m):\n",
      "File \u001b[1;32mc:\\Users\\Michel_GPC\\.conda\\envs\\MyFastAPI\\Lib\\site-packages\\sympy\\core\\operations.py:98\u001b[0m, in \u001b[0;36mAssocOp.__new__\u001b[1;34m(cls, evaluate, _sympify, *args)\u001b[0m\n\u001b[0;32m     95\u001b[0m \u001b[39mif\u001b[39;00m \u001b[39mlen\u001b[39m(args) \u001b[39m==\u001b[39m \u001b[39m1\u001b[39m:\n\u001b[0;32m     96\u001b[0m     \u001b[39mreturn\u001b[39;00m args[\u001b[39m0\u001b[39m]\n\u001b[1;32m---> 98\u001b[0m c_part, nc_part, order_symbols \u001b[39m=\u001b[39m \u001b[39mcls\u001b[39m\u001b[39m.\u001b[39mflatten(args)\n\u001b[0;32m     99\u001b[0m is_commutative \u001b[39m=\u001b[39m \u001b[39mnot\u001b[39;00m nc_part\n\u001b[0;32m    100\u001b[0m obj \u001b[39m=\u001b[39m \u001b[39mcls\u001b[39m\u001b[39m.\u001b[39m_from_args(c_part \u001b[39m+\u001b[39m nc_part, is_commutative)\n",
      "File \u001b[1;32mc:\\Users\\Michel_GPC\\.conda\\envs\\MyFastAPI\\Lib\\site-packages\\sympy\\core\\mul.py:365\u001b[0m, in \u001b[0;36mMul.flatten\u001b[1;34m(cls, seq)\u001b[0m\n\u001b[0;32m    363\u001b[0m     \u001b[39mreturn\u001b[39;00m [S\u001b[39m.\u001b[39mNaN], [], \u001b[39mNone\u001b[39;00m\n\u001b[0;32m    364\u001b[0m \u001b[39melif\u001b[39;00m coeff\u001b[39m.\u001b[39mis_Number \u001b[39mor\u001b[39;00m \u001b[39misinstance\u001b[39m(coeff, AccumBounds):  \u001b[39m# it could be zoo\u001b[39;00m\n\u001b[1;32m--> 365\u001b[0m     coeff \u001b[39m*\u001b[39m\u001b[39m=\u001b[39m o\n\u001b[0;32m    366\u001b[0m     \u001b[39mif\u001b[39;00m coeff \u001b[39mis\u001b[39;00m S\u001b[39m.\u001b[39mNaN:\n\u001b[0;32m    367\u001b[0m         \u001b[39m# we know for sure the result will be nan\u001b[39;00m\n\u001b[0;32m    368\u001b[0m         \u001b[39mreturn\u001b[39;00m [S\u001b[39m.\u001b[39mNaN], [], \u001b[39mNone\u001b[39;00m\n",
      "File \u001b[1;32mc:\\Users\\Michel_GPC\\.conda\\envs\\MyFastAPI\\Lib\\site-packages\\sympy\\core\\numbers.py:2213\u001b[0m, in \u001b[0;36mInteger.__mul__\u001b[1;34m(self, other)\u001b[0m\n\u001b[0;32m   2211\u001b[0m     \u001b[39melif\u001b[39;00m \u001b[39misinstance\u001b[39m(other, Rational):\n\u001b[0;32m   2212\u001b[0m         \u001b[39mreturn\u001b[39;00m Rational(\u001b[39mself\u001b[39m\u001b[39m.\u001b[39mp\u001b[39m*\u001b[39mother\u001b[39m.\u001b[39mp, other\u001b[39m.\u001b[39mq, igcd(\u001b[39mself\u001b[39m\u001b[39m.\u001b[39mp, other\u001b[39m.\u001b[39mq))\n\u001b[1;32m-> 2213\u001b[0m     \u001b[39mreturn\u001b[39;00m Rational\u001b[39m.\u001b[39m\u001b[39m__mul__\u001b[39m(\u001b[39mself\u001b[39m, other)\n\u001b[0;32m   2214\u001b[0m \u001b[39mreturn\u001b[39;00m Rational\u001b[39m.\u001b[39m\u001b[39m__mul__\u001b[39m(\u001b[39mself\u001b[39m, other)\n",
      "File \u001b[1;32mc:\\Users\\Michel_GPC\\.conda\\envs\\MyFastAPI\\Lib\\site-packages\\sympy\\core\\decorators.py:65\u001b[0m, in \u001b[0;36m__sympifyit.<locals>.__sympifyit_wrapper\u001b[1;34m(a, b)\u001b[0m\n\u001b[0;32m     63\u001b[0m     \u001b[39mif\u001b[39;00m \u001b[39mnot\u001b[39;00m \u001b[39mhasattr\u001b[39m(b, \u001b[39m'\u001b[39m\u001b[39m_op_priority\u001b[39m\u001b[39m'\u001b[39m):\n\u001b[0;32m     64\u001b[0m         b \u001b[39m=\u001b[39m sympify(b, strict\u001b[39m=\u001b[39m\u001b[39mTrue\u001b[39;00m)\n\u001b[1;32m---> 65\u001b[0m     \u001b[39mreturn\u001b[39;00m func(a, b)\n\u001b[0;32m     66\u001b[0m \u001b[39mexcept\u001b[39;00m SympifyError:\n\u001b[0;32m     67\u001b[0m     \u001b[39mreturn\u001b[39;00m retval\n",
      "File \u001b[1;32mc:\\Users\\Michel_GPC\\.conda\\envs\\MyFastAPI\\Lib\\site-packages\\sympy\\core\\numbers.py:1747\u001b[0m, in \u001b[0;36mRational.__mul__\u001b[1;34m(self, other)\u001b[0m\n\u001b[0;32m   1745\u001b[0m     \u001b[39mreturn\u001b[39;00m Rational(\u001b[39mself\u001b[39m\u001b[39m.\u001b[39mp\u001b[39m*\u001b[39mother\u001b[39m.\u001b[39mp, \u001b[39mself\u001b[39m\u001b[39m.\u001b[39mq\u001b[39m*\u001b[39mother\u001b[39m.\u001b[39mq, igcd(\u001b[39mself\u001b[39m\u001b[39m.\u001b[39mp, other\u001b[39m.\u001b[39mq)\u001b[39m*\u001b[39migcd(\u001b[39mself\u001b[39m\u001b[39m.\u001b[39mq, other\u001b[39m.\u001b[39mp))\n\u001b[0;32m   1746\u001b[0m \u001b[39melif\u001b[39;00m \u001b[39misinstance\u001b[39m(other, Float):\n\u001b[1;32m-> 1747\u001b[0m     \u001b[39mreturn\u001b[39;00m other\u001b[39m*\u001b[39m\u001b[39mself\u001b[39m\n\u001b[0;32m   1748\u001b[0m \u001b[39melse\u001b[39;00m:\n\u001b[0;32m   1749\u001b[0m     \u001b[39mreturn\u001b[39;00m Number\u001b[39m.\u001b[39m\u001b[39m__mul__\u001b[39m(\u001b[39mself\u001b[39m, other)\n",
      "File \u001b[1;32mc:\\Users\\Michel_GPC\\.conda\\envs\\MyFastAPI\\Lib\\site-packages\\sympy\\core\\decorators.py:65\u001b[0m, in \u001b[0;36m__sympifyit.<locals>.__sympifyit_wrapper\u001b[1;34m(a, b)\u001b[0m\n\u001b[0;32m     63\u001b[0m     \u001b[39mif\u001b[39;00m \u001b[39mnot\u001b[39;00m \u001b[39mhasattr\u001b[39m(b, \u001b[39m'\u001b[39m\u001b[39m_op_priority\u001b[39m\u001b[39m'\u001b[39m):\n\u001b[0;32m     64\u001b[0m         b \u001b[39m=\u001b[39m sympify(b, strict\u001b[39m=\u001b[39m\u001b[39mTrue\u001b[39;00m)\n\u001b[1;32m---> 65\u001b[0m     \u001b[39mreturn\u001b[39;00m func(a, b)\n\u001b[0;32m     66\u001b[0m \u001b[39mexcept\u001b[39;00m SympifyError:\n\u001b[0;32m     67\u001b[0m     \u001b[39mreturn\u001b[39;00m retval\n",
      "File \u001b[1;32mc:\\Users\\Michel_GPC\\.conda\\envs\\MyFastAPI\\Lib\\site-packages\\sympy\\core\\numbers.py:1298\u001b[0m, in \u001b[0;36mFloat.__mul__\u001b[1;34m(self, other)\u001b[0m\n\u001b[0;32m   1296\u001b[0m \u001b[39mif\u001b[39;00m \u001b[39misinstance\u001b[39m(other, Number) \u001b[39mand\u001b[39;00m global_parameters\u001b[39m.\u001b[39mevaluate:\n\u001b[0;32m   1297\u001b[0m     rhs, prec \u001b[39m=\u001b[39m other\u001b[39m.\u001b[39m_as_mpf_op(\u001b[39mself\u001b[39m\u001b[39m.\u001b[39m_prec)\n\u001b[1;32m-> 1298\u001b[0m     \u001b[39mreturn\u001b[39;00m Float\u001b[39m.\u001b[39m_new(mlib\u001b[39m.\u001b[39mmpf_mul(\u001b[39mself\u001b[39m\u001b[39m.\u001b[39m_mpf_, rhs, prec, rnd), prec)\n\u001b[0;32m   1299\u001b[0m \u001b[39mreturn\u001b[39;00m Number\u001b[39m.\u001b[39m\u001b[39m__mul__\u001b[39m(\u001b[39mself\u001b[39m, other)\n",
      "File \u001b[1;32mc:\\Users\\Michel_GPC\\.conda\\envs\\MyFastAPI\\Lib\\site-packages\\sympy\\core\\numbers.py:1194\u001b[0m, in \u001b[0;36mFloat._new\u001b[1;34m(cls, _mpf_, _prec, zero)\u001b[0m\n\u001b[0;32m   1191\u001b[0m     \u001b[39mreturn\u001b[39;00m S\u001b[39m.\u001b[39mNegativeInfinity\n\u001b[0;32m   1193\u001b[0m obj \u001b[39m=\u001b[39m Expr\u001b[39m.\u001b[39m\u001b[39m__new__\u001b[39m(\u001b[39mcls\u001b[39m)\n\u001b[1;32m-> 1194\u001b[0m obj\u001b[39m.\u001b[39m_mpf_ \u001b[39m=\u001b[39m mpf_norm(_mpf_, _prec)\n\u001b[0;32m   1195\u001b[0m obj\u001b[39m.\u001b[39m_prec \u001b[39m=\u001b[39m _prec\n\u001b[0;32m   1196\u001b[0m \u001b[39mreturn\u001b[39;00m obj\n",
      "File \u001b[1;32mc:\\Users\\Michel_GPC\\.conda\\envs\\MyFastAPI\\Lib\\site-packages\\sympy\\core\\numbers.py:149\u001b[0m, in \u001b[0;36mmpf_norm\u001b[1;34m(mpf, prec)\u001b[0m\n\u001b[0;32m    145\u001b[0m     \u001b[39melse\u001b[39;00m:\n\u001b[0;32m    146\u001b[0m         \u001b[39mreturn\u001b[39;00m diff \u001b[39m<\u001b[39m\u001b[39m=\u001b[39m tol\n\u001b[1;32m--> 149\u001b[0m \u001b[39mdef\u001b[39;00m \u001b[39mmpf_norm\u001b[39m(mpf, prec):\n\u001b[0;32m    150\u001b[0m     \u001b[39m\"\"\"Return the mpf tuple normalized appropriately for the indicated\u001b[39;00m\n\u001b[0;32m    151\u001b[0m \u001b[39m    precision after doing a check to see if zero should be returned or\u001b[39;00m\n\u001b[0;32m    152\u001b[0m \u001b[39m    not when the mantissa is 0. ``mpf_normlize`` always assumes that this\u001b[39;00m\n\u001b[1;32m   (...)\u001b[0m\n\u001b[0;32m    159\u001b[0m \u001b[39m    zero mpfs that have a 0 for the mantissa.\u001b[39;00m\n\u001b[0;32m    160\u001b[0m \u001b[39m    \"\"\"\u001b[39;00m\n\u001b[0;32m    161\u001b[0m     sign, man, expt, bc \u001b[39m=\u001b[39m mpf\n",
      "\u001b[1;31mKeyboardInterrupt\u001b[0m: "
     ]
    }
   ],
   "source": [
    "import numpy as np\n",
    "import matplotlib.pyplot as plt\n",
    "from sympy import symbols, cos, sin, pi, atan2, sqrt\n",
    "from sympy.matrices import Matrix\n",
    "\n",
    "# Definir las variables simbólicas\n",
    "theta1, theta2 = symbols('theta1 theta2')\n",
    "a1, a2 = symbols('a1 a2')\n",
    "\n",
    "# Matriz de transformación homogénea para la primera articulación\n",
    "T1 = Matrix([[cos(theta1), -sin(theta1), 0, a1*cos(theta1)],\n",
    "             [sin(theta1), cos(theta1), 0, a1*sin(theta1)],\n",
    "             [0, 0, 1, 0],\n",
    "             [0, 0, 0, 1]])\n",
    "\n",
    "# Matriz de transformación homogénea para la segunda articulación\n",
    "T2 = Matrix([[cos(theta2), -sin(theta2), 0, a2*cos(theta2)],\n",
    "             [sin(theta2), cos(theta2), 0, a2*sin(theta2)],\n",
    "             [0, 0, 1, 0],\n",
    "             [0, 0, 0, 1]])\n",
    "\n",
    "# Calcular la matriz de transformación homogénea total\n",
    "T = T1 * T2\n",
    "\n",
    "# Definir las longitudes de los eslabones\n",
    "link_lengths = {a1: 2, a2: 1.5}\n",
    "\n",
    "# Configurar la figura y el eje\n",
    "fig, ax = plt.subplots()\n",
    "ax.axis('equal')\n",
    "ax.set_xlim(-4, 4)\n",
    "ax.set_ylim(-4, 4)\n",
    "\n",
    "# Animar el manipulador\n",
    "for angle1 in np.linspace(0, 2*np.pi, 100):\n",
    "    for angle2 in np.linspace(0, 2*np.pi, 100):\n",
    "        # Evaluar las matrices de transformación con los ángulos actuales\n",
    "        T1_eval = T1.subs({theta1: angle1, **link_lengths})\n",
    "        T2_eval = T2.subs({theta2: angle2, **link_lengths})\n",
    "        T_eval = T.subs({theta1: angle1, theta2: angle2, **link_lengths})\n",
    "\n",
    "        # Extraer las posiciones de las articulaciones y del extremo efectuador\n",
    "        joint1 = [T1_eval[0, 3], T1_eval[1, 3]]\n",
    "        joint2 = [T_eval[0, 3], T_eval[1, 3]]\n",
    "        origin = [0, 0]\n",
    "\n",
    "        # Actualizar la posición de los eslabones en la gráfica\n",
    "        ax.plot([origin[0], joint1[0]], [origin[1], joint1[1]], 'r-')\n",
    "        ax.plot([joint1[0], joint2[0]], [joint1[1], joint2[1]], 'b-')\n",
    "        plt.draw()\n",
    "        plt.pause(0.01)\n",
    "        ax.clear()\n",
    "        ax.set_xlim(-4, 4)\n",
    "        ax.set_ylim(-4, 4)"
   ]
  },
  {
   "cell_type": "code",
   "execution_count": null,
   "metadata": {},
   "outputs": [],
   "source": []
  }
 ],
 "metadata": {
  "kernelspec": {
   "display_name": "MyFastAPI",
   "language": "python",
   "name": "myfastapi"
  },
  "language_info": {
   "codemirror_mode": {
    "name": "ipython",
    "version": 3
   },
   "file_extension": ".py",
   "mimetype": "text/x-python",
   "name": "python",
   "nbconvert_exporter": "python",
   "pygments_lexer": "ipython3",
   "version": "3.11.4"
  },
  "orig_nbformat": 4
 },
 "nbformat": 4,
 "nbformat_minor": 2
}
