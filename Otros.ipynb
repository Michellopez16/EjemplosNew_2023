{
 "cells": [
  {
   "cell_type": "markdown",
   "metadata": {},
   "source": [
    "Además del Filtro de Kalman y del Filtro de Partículas, existen otros estimadores que se utilizan en diversos campos para estimar el estado de un sistema. Aquí te menciono algunos de ellos:\n",
    "\n",
    "Filtro de Wiener:\n",
    "El Filtro de Wiener es un tipo de filtro lineal óptimo para la estimación de señales en presencia de ruido. Es útil cuando la señal y el ruido son procesos estocásticos estacionarios.\n",
    "\n",
    "Filtro de Mediana:\n",
    "El Filtro de Mediana es un tipo de filtro no lineal útil para la eliminación de ruido de tipo \"sal y pimienta\". Es ampliamente utilizado en el procesamiento de imágenes.\n",
    "\n",
    "Filtro de Bayes:\n",
    "El Filtro de Bayes es un algoritmo general para estimar la distribución de probabilidad de un estado, dado un modelo de transición de estado y observaciones. El Filtro de Kalman y el Filtro de Partículas son casos especiales del Filtro de Bayes.\n",
    "\n",
    "Filtro de H∞ (H-infinity):\n",
    "El Filtro de H∞ es un filtro robusto que minimiza el impacto máximo del ruido en la estimación del estado. Es útil en sistemas donde el ruido y las perturbaciones son difíciles de modelar.\n",
    "\n",
    "Filtro de Markov de Información Mínima (Minimax):\n",
    "Este filtro busca la estrategia de estimación óptima bajo el peor escenario posible, proporcionando robustez frente a incertidumbres y modelado inexacto.\n",
    "\n",
    "Filtro de Mínimos Cuadrados:\n",
    "El Filtro de Mínimos Cuadrados minimiza la suma de los cuadrados de los residuos, la diferencia entre la observación actual y la estimación. Es útil cuando se tiene un conjunto de mediciones y se desea encontrar la mejor línea recta que se ajuste a ellas.\n",
    "\n",
    "Extended Kalman Filter (EKF):\n",
    "El EKF es una extensión no lineal del Filtro de Kalman que lineariza las funciones de transición y observación mediante la derivación numérica o el desarrollo en serie de Taylor.\n",
    "\n",
    "Unscented Kalman Filter (UKF):\n",
    "El UKF es otra extensión no lineal del Filtro de Kalman que utiliza una técnica de transformación no lineal para aproximar la media y la covarianza de la distribución a posteriori.\n",
    "\n",
    "Filtro de Markov Oculto:\n",
    "Un Filtro de Markov Oculto es un modelo estadístico que representa sistemas donde el estado a estimar es parcialmente observable y sigue una cadena de Markov. Es útil en reconocimiento de voz, procesamiento de lenguaje natural, y bioinformática, entre otros campos.\n",
    "\n",
    "Método de Montecarlo Secuencial (SMC):\n",
    "El método SMC es una técnica de simulación que se utiliza para aproximar la distribución de probabilidad de un estado. El Filtro de Partículas es un tipo específico de método SMC.\n",
    "\n",
    "Estos son solo algunos ejemplos de los muchos estimadores y filtros que existen para diferentes aplicaciones y contextos. La elección de un método en particular dependerá de la naturaleza del problema, las características del sistema y las mediciones, y los requerimientos de precisión y robustez."
   ]
  },
  {
   "cell_type": "code",
   "execution_count": null,
   "metadata": {},
   "outputs": [],
   "source": []
  },
  {
   "cell_type": "markdown",
   "metadata": {},
   "source": []
  },
  {
   "cell_type": "code",
   "execution_count": null,
   "metadata": {},
   "outputs": [],
   "source": []
  },
  {
   "cell_type": "code",
   "execution_count": null,
   "metadata": {},
   "outputs": [],
   "source": []
  },
  {
   "cell_type": "code",
   "execution_count": null,
   "metadata": {},
   "outputs": [],
   "source": []
  },
  {
   "cell_type": "code",
   "execution_count": null,
   "metadata": {},
   "outputs": [],
   "source": []
  },
  {
   "cell_type": "code",
   "execution_count": 1,
   "metadata": {},
   "outputs": [
    {
     "name": "stdout",
     "output_type": "stream",
     "text": [
      "Matriz A:\n"
     ]
    },
    {
     "data": {
      "text/latex": [
       "$\\displaystyle \\left[\\begin{matrix}0 & 1\\\\0 & -1\\end{matrix}\\right]$"
      ],
      "text/plain": [
       "Matrix([\n",
       "[0,  1],\n",
       "[0, -1]])"
      ]
     },
     "metadata": {},
     "output_type": "display_data"
    },
    {
     "name": "stdout",
     "output_type": "stream",
     "text": [
      "Matriz B:\n"
     ]
    },
    {
     "data": {
      "text/latex": [
       "$\\displaystyle \\left[\\begin{matrix}0\\\\1\\end{matrix}\\right]$"
      ],
      "text/plain": [
       "Matrix([\n",
       "[0],\n",
       "[1]])"
      ]
     },
     "metadata": {},
     "output_type": "display_data"
    }
   ],
   "source": [
    "import sympy as sp\n",
    "\n",
    "# Definir las variables simbólicas\n",
    "x1, x2, u = sp.symbols('x1 x2 u')\n",
    "\n",
    "# Definir las funciones f1 y f2\n",
    "f1 = -x1**2 + x2\n",
    "f2 = u - x2\n",
    "\n",
    "# Calcular las derivadas parciales para formar las matrices A y B\n",
    "A11 = sp.diff(f1, x1).subs({x1: 0, x2: 0, u: 0})\n",
    "A12 = sp.diff(f1, x2).subs({x1: 0, x2: 0, u: 0})\n",
    "A21 = sp.diff(f2, x1).subs({x1: 0, x2: 0, u: 0})\n",
    "A22 = sp.diff(f2, x2).subs({x1: 0, x2: 0, u: 0})\n",
    "\n",
    "B1 = sp.diff(f1, u).subs({x1: 0, x2: 0, u: 0})\n",
    "B2 = sp.diff(f2, u).subs({x1: 0, x2: 0, u: 0})\n",
    "\n",
    "# Construir las matrices A y B\n",
    "A = sp.Matrix([[A11, A12], [A21, A22]])\n",
    "B = sp.Matrix([B1, B2])\n",
    "\n",
    "# Mostrar los resultados\n",
    "print(\"Matriz A:\")\n",
    "display(A)\n",
    "\n",
    "print(\"Matriz B:\")\n",
    "display(B)\n",
    "\n",
    "\n"
   ]
  }
 ],
 "metadata": {
  "kernelspec": {
   "display_name": "MyFastAPI",
   "language": "python",
   "name": "myfastapi"
  },
  "language_info": {
   "codemirror_mode": {
    "name": "ipython",
    "version": 3
   },
   "file_extension": ".py",
   "mimetype": "text/x-python",
   "name": "python",
   "nbconvert_exporter": "python",
   "pygments_lexer": "ipython3",
   "version": "3.11.4"
  },
  "orig_nbformat": 4
 },
 "nbformat": 4,
 "nbformat_minor": 2
}
