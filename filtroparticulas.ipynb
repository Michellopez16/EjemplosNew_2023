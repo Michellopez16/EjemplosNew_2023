{
 "cells": [
  {
   "cell_type": "markdown",
   "metadata": {},
   "source": []
  },
  {
   "cell_type": "markdown",
   "metadata": {},
   "source": [
    "Claro, aquí te presento las ecuaciones fundamentales del filtro de partículas expresadas en LaTeX:\n",
    "\n",
    "1. **Inicialización de Partículas:**\n",
    "   Se inicializan $N$ partículas $x_i^{(0)}$ y pesos $w_i^{(0)}$ de forma uniforme o según una distribución a priori:\n",
    "   $$ x_i^{(0)} \\sim p(x_0) $$\n",
    "   $$ w_i^{(0)} = \\frac{1}{N} $$\n",
    "\n",
    "2. **Predicción:**\n",
    "   En cada paso de tiempo, las partículas se mueven de acuerdo con el modelo de movimiento del sistema, añadiendo ruido para simular la incertidumbre:\n",
    "   $$ x_i^{(t)} \\sim p(x_t | x_i^{(t-1)}, u_t) $$\n",
    "\n",
    "3. **Actualización de Pesos:**\n",
    "   Cuando se recibe una nueva medición $z_t$, se actualizan los pesos de las partículas:\n",
    "   $$ w_i^{(t)} = w_i^{(t-1)} p(z_t | x_i^{(t)}) $$\n",
    "\n",
    "4. **Normalización de Pesos:**\n",
    "   Los pesos se normalizan de modo que sumen a uno:\n",
    "   $$ w_i^{(t)} = \\frac{w_i^{(t)}}{\\sum_{j=1}^{N} w_j^{(t)}} $$\n",
    "\n",
    "5. **Resampleo:**\n",
    "   Se seleccionan nuevas partículas del conjunto actual con reemplazo, siendo la probabilidad de selección proporcional al peso de cada partícula:\n",
    "   $$ x_i^{(t)} \\leftarrow x_j^{(t)} \\text{ con probabilidad } w_j^{(t)} $$\n",
    "\n",
    "6. **Estimación del Estado:**\n",
    "   La estimación del estado actual del sistema se obtiene calculando el promedio ponderado de todas las partículas, utilizando sus pesos:\n",
    "   $$ \\hat{x}_t = \\sum_{i=1}^{N} w_i^{(t)} x_i^{(t)} $$\n",
    "\n",
    "En estas ecuaciones:\n",
    "- $N$ es el número de partículas.\n",
    "- $x_i^{(t)}$ es el estado de la partícula $i$ en el tiempo $t$.\n",
    "- $w_i^{(t)}$ es el peso de la partícula $i$ en el tiempo $t$.\n",
    "- $u_t$ es la acción de control en el tiempo $t$.\n",
    "- $z_t$ es la medición observada en el tiempo $t$.\n",
    "- $p(x_t | x_i^{(t-1)}, u_t)$ es la probabilidad de transición de estado (modelo de movimiento).\n",
    "- $p(z_t | x_i^{(t)})$ es la probabilidad de medición (modelo de sensor).\n",
    "- $\\hat{x}_t$ es la estimación del estado real en el tiempo $t$."
   ]
  },
  {
   "cell_type": "markdown",
   "metadata": {},
   "source": [
    "Crear un filtro de partículas para estimar la posición del mouse es más complicado que el filtro de Kalman debido a la naturaleza de las partículas y la necesidad de realizar remuestreo. Aquí te presento un ejemplo básico utilizando Python y Pygame:\n",
    "\n",
    "Antes de ejecutar, asegúrate de tener Pygame instalado:"
   ]
  },
  {
   "cell_type": "markdown",
   "metadata": {},
   "source": []
  },
  {
   "cell_type": "code",
   "execution_count": 2,
   "metadata": {},
   "outputs": [
    {
     "name": "stderr",
     "output_type": "stream",
     "text": [
      "C:\\Users\\Michel_GPC\\AppData\\Local\\Temp\\ipykernel_22728\\3130077908.py:40: RuntimeWarning: invalid value encountered in divide\n",
      "  weights /= weights.sum()\n"
     ]
    },
    {
     "ename": "ValueError",
     "evalue": "probabilities contain NaN",
     "output_type": "error",
     "traceback": [
      "\u001b[1;31m---------------------------------------------------------------------------\u001b[0m",
      "\u001b[1;31mValueError\u001b[0m                                Traceback (most recent call last)",
      "\u001b[1;32mc:\\Users\\Michel_GPC\\Documents\\1_CUCEI_2023\\UP_2023\\EjemplosNew_2023\\filtroparticulas.ipynb Cell 5\u001b[0m line \u001b[0;36m4\n\u001b[0;32m     <a href='vscode-notebook-cell:/c%3A/Users/Michel_GPC/Documents/1_CUCEI_2023/UP_2023/EjemplosNew_2023/filtroparticulas.ipynb#W0sZmlsZQ%3D%3D?line=39'>40</a>\u001b[0m weights \u001b[39m/\u001b[39m\u001b[39m=\u001b[39m weights\u001b[39m.\u001b[39msum()\n\u001b[0;32m     <a href='vscode-notebook-cell:/c%3A/Users/Michel_GPC/Documents/1_CUCEI_2023/UP_2023/EjemplosNew_2023/filtroparticulas.ipynb#W0sZmlsZQ%3D%3D?line=41'>42</a>\u001b[0m \u001b[39m# Resamplear partículas\u001b[39;00m\n\u001b[1;32m---> <a href='vscode-notebook-cell:/c%3A/Users/Michel_GPC/Documents/1_CUCEI_2023/UP_2023/EjemplosNew_2023/filtroparticulas.ipynb#W0sZmlsZQ%3D%3D?line=42'>43</a>\u001b[0m indices \u001b[39m=\u001b[39m np\u001b[39m.\u001b[39mrandom\u001b[39m.\u001b[39mchoice(np\u001b[39m.\u001b[39marange(n_particles), size\u001b[39m=\u001b[39mn_particles, p\u001b[39m=\u001b[39mweights)\n\u001b[0;32m     <a href='vscode-notebook-cell:/c%3A/Users/Michel_GPC/Documents/1_CUCEI_2023/UP_2023/EjemplosNew_2023/filtroparticulas.ipynb#W0sZmlsZQ%3D%3D?line=43'>44</a>\u001b[0m particles \u001b[39m=\u001b[39m particles[indices]\n\u001b[0;32m     <a href='vscode-notebook-cell:/c%3A/Users/Michel_GPC/Documents/1_CUCEI_2023/UP_2023/EjemplosNew_2023/filtroparticulas.ipynb#W0sZmlsZQ%3D%3D?line=45'>46</a>\u001b[0m \u001b[39m# Estimación de la posición\u001b[39;00m\n",
      "File \u001b[1;32mnumpy\\\\random\\\\mtrand.pyx:970\u001b[0m, in \u001b[0;36mnumpy.random.mtrand.RandomState.choice\u001b[1;34m()\u001b[0m\n",
      "\u001b[1;31mValueError\u001b[0m: probabilities contain NaN"
     ]
    }
   ],
   "source": [
    "import pygame\n",
    "import numpy as np\n",
    "\n",
    "# Inicializar Pygame\n",
    "pygame.init()\n",
    "\n",
    "# Configurar la ventana de visualización\n",
    "width, height = 800, 600\n",
    "screen = pygame.display.set_mode((width, height))\n",
    "pygame.display.set_caption('Particle Filter Mouse Estimation')\n",
    "\n",
    "# Número de partículas\n",
    "n_particles = 1000\n",
    "\n",
    "# Inicializar partículas y pesos\n",
    "particles = np.random.rand(n_particles, 2) * np.array([width, height])\n",
    "weights = np.ones(n_particles) / n_particles\n",
    "\n",
    "# Ruido de sensor y movimiento\n",
    "sensor_noise = 20.0\n",
    "motion_noise = 5.0\n",
    "\n",
    "# Bucle principal\n",
    "running = True\n",
    "while running:\n",
    "    for event in pygame.event.get():\n",
    "        if event.type == pygame.QUIT:\n",
    "            running = False\n",
    "    \n",
    "    # Obtener la posición real del mouse\n",
    "    mouse_x, mouse_y = pygame.mouse.get_pos()\n",
    "    z = np.array([mouse_x, mouse_y])  # Medición\n",
    "    \n",
    "    # Mover partículas con ruido\n",
    "    particles += np.random.normal(0, motion_noise, particles.shape)\n",
    "    \n",
    "    # Ponderar partículas basadas en la medición del sensor\n",
    "    distances = np.linalg.norm(particles - z, axis=1)\n",
    "    weights = np.exp(-distances**2 / (2 * sensor_noise**2))\n",
    "    weights /= weights.sum()\n",
    "    \n",
    "    # Resamplear partículas\n",
    "    indices = np.random.choice(np.arange(n_particles), size=n_particles, p=weights)\n",
    "    particles = particles[indices]\n",
    "    \n",
    "    # Estimación de la posición\n",
    "    estimate = np.mean(particles, axis=0)\n",
    "    \n",
    "    # Dibujar\n",
    "    screen.fill((255, 255, 255))\n",
    "    pygame.draw.circle(screen, (0, 0, 255), (int(mouse_x), int(mouse_y)), 10)  # Posición real del mouse\n",
    "    pygame.draw.circle(screen, (255, 0, 0), (int(estimate[0]), int(estimate[1])), 10)  # Estimación del Filtro de Partículas\n",
    "    for particle in particles:\n",
    "        pygame.draw.circle(screen, (0, 255, 0), (int(particle[0]), int(particle[1])), 2, 1)  # Partículas\n",
    "    pygame.display.flip()\n",
    "    \n",
    "    pygame.time.delay(10)\n",
    "\n",
    "pygame.quit()"
   ]
  },
  {
   "cell_type": "markdown",
   "metadata": {},
   "source": [
    "En este ejemplo, la posición real del mouse se muestra con un círculo azul, las partículas se muestran como pequeños círculos verdes y la posición estimada por el filtro de partículas se muestra con un círculo rojo. Puedes ajustar sensor_noise y motion_noise para ver cómo afectan al comportamiento del filtro."
   ]
  }
 ],
 "metadata": {
  "kernelspec": {
   "display_name": "MyFastAPI",
   "language": "python",
   "name": "myfastapi"
  },
  "language_info": {
   "codemirror_mode": {
    "name": "ipython",
    "version": 3
   },
   "file_extension": ".py",
   "mimetype": "text/x-python",
   "name": "python",
   "nbconvert_exporter": "python",
   "pygments_lexer": "ipython3",
   "version": "3.11.4"
  },
  "orig_nbformat": 4
 },
 "nbformat": 4,
 "nbformat_minor": 2
}
