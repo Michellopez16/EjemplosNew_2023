{
 "cells": [
  {
   "cell_type": "markdown",
   "metadata": {},
   "source": [
    "El Filtro de Bayes se basa en el teorema de Bayes para actualizar las creencias o estimaciones de un sistema a medida que se reciben nuevas mediciones. Las ecuaciones fundamentales del Filtro de Bayes son las siguientes:\n",
    "\n",
    "1. **Predicción:**\n",
    "   La predicción se realiza utilizando el modelo de transición del estado, que describe cómo evoluciona el estado del sistema con el tiempo. Dado un estado anterior $ x_{t-1} $ y una acción de control $ u_t $, la predicción del estado actual $ x_t $ se da por:\n",
    "   $$\n",
    "   p(x_t | u_t, z_{1:t-1}, u_{1:t-1}) = \\int p(x_t | x_{t-1}, u_t) p(x_{t-1} | z_{1:t-1}, u_{1:t-1}) dx_{t-1}\n",
    "   $$\n",
    "\n",
    "2. **Corrección (Actualización):**\n",
    "   La corrección se realiza utilizando el teorema de Bayes para incorporar la nueva medición $ z_t $ al estado estimado. La actualización de la creencia se da por:\n",
    "   $$\n",
    "   p(x_t | z_{1:t}, u_{1:t}) = \\frac{p(z_t | x_t) p(x_t | u_t, z_{1:t-1}, u_{1:t-1})}{p(z_t | z_{1:t-1}, u_{1:t})}\n",
    "   $$\n",
    "\n",
    "   Donde:\n",
    "   - $ p(z_t | x_t) $ es la probabilidad de la medición dada el estado actual, también conocida como modelo de medición o sensor.\n",
    "   - $ p(x_t | u_t, z_{1:t-1}, u_{1:t-1}) $ es la predicción del estado actual dadas las acciones de control y mediciones anteriores.\n",
    "   - $ p(z_t | z_{1:t-1}, u_{1:t}) $ es la probabilidad total de la medición actual, y se calcula como:\n",
    "   $$\n",
    "   p(z_t | z_{1:t-1}, u_{1:t}) = \\int p(z_t | x_t) p(x_t | u_t, z_{1:t-1}, u_{1:t-1}) dx_t\n",
    "   $$\n",
    "\n",
    "3. **Estimación del Estado:**\n",
    "   La estimación del estado $ \\hat{x}_t $ se obtiene calculando el valor esperado del estado actual, dado el conjunto de mediciones y acciones de control hasta el tiempo $ t $:\n",
    "   $$\n",
    "   \\hat{x}_t = \\mathbb{E}[x_t | z_{1:t}, u_{1:t}]\n",
    "   $$\n",
    "\n",
    "Estas ecuaciones proporcionan un marco general para la implementación del Filtro de Bayes, y se pueden adaptar a diferentes aplicaciones y sistemas mediante la especificación de los modelos de transición y medición."
   ]
  },
  {
   "cell_type": "code",
   "execution_count": null,
   "metadata": {},
   "outputs": [],
   "source": []
  },
  {
   "cell_type": "markdown",
   "metadata": {},
   "source": [
    "Vamos a implementar un ejemplo sencillo del Filtro de Bayes para estimar la posición del mouse en una línea (1D). Para simplificar, asumimos que la posición del mouse solo puede estar en una serie de posiciones discretas a lo largo de la línea.\n",
    "\n",
    "En este ejemplo, usaremos Python y la biblioteca pygame para la interfaz gráfica. Si no tienes instalada la biblioteca pygame, puedes instalarla usando pip:"
   ]
  },
  {
   "cell_type": "code",
   "execution_count": 2,
   "metadata": {},
   "outputs": [],
   "source": [
    "import pygame\n",
    "import numpy as np\n",
    "\n",
    "# Inicializar Pygame\n",
    "pygame.init()\n",
    "\n",
    "# Configurar la ventana de visualización\n",
    "width, height = 800, 100\n",
    "screen = pygame.display.set_mode((width, height))\n",
    "pygame.display.set_caption('Bayesian Filter Mouse Estimation')\n",
    "\n",
    "# Número de celdas discretas\n",
    "n_cells = width\n",
    "\n",
    "# Inicializar la distribución de probabilidad\n",
    "belief = np.ones(n_cells) / n_cells\n",
    "\n",
    "# Ruido de sensor\n",
    "sensor_noise = 20.0\n",
    "\n",
    "# Bucle principal\n",
    "running = True\n",
    "while running:\n",
    "    for event in pygame.event.get():\n",
    "        if event.type == pygame.QUIT:\n",
    "            running = False\n",
    "    \n",
    "    # Obtener la posición real del mouse\n",
    "    mouse_x, _ = pygame.mouse.get_pos()\n",
    "    \n",
    "    # Actualizar creencia basada en la medición del sensor\n",
    "    distances = np.abs(np.arange(n_cells) - mouse_x)\n",
    "    likelihood = np.exp(-distances**2 / (2 * sensor_noise**2))\n",
    "    belief = likelihood * belief\n",
    "    belief /= belief.sum()\n",
    "    \n",
    "    # Estimación de la posición\n",
    "    estimate = np.sum(np.arange(n_cells) * belief)\n",
    "    \n",
    "    # Dibujar\n",
    "    screen.fill((255, 255, 255))\n",
    "    pygame.draw.circle(screen, (0, 0, 255), (int(mouse_x), height // 2), 10)  # Posición real del mouse\n",
    "    pygame.draw.circle(screen, (255, 0, 0), (int(estimate), height // 2), 10)  # Estimación del Filtro de Bayes\n",
    "    pygame.draw.line(screen, (0, 255, 0), (int(estimate), height), (int(estimate), 0), 2)  # Línea de estimación\n",
    "    pygame.display.flip()\n",
    "    \n",
    "    pygame.time.delay(10)\n",
    "\n",
    "pygame.quit()"
   ]
  },
  {
   "cell_type": "markdown",
   "metadata": {},
   "source": [
    "En este código, la ventana tiene n_cells celdas, y la creencia se actualiza en cada iteración en función de la posición actual del mouse. La posición estimada del mouse se calcula como la media ponderada de la posición de todas las celdas, y se muestra junto con la posición real del mouse en la ventana de pygame."
   ]
  }
 ],
 "metadata": {
  "kernelspec": {
   "display_name": "MyFastAPI",
   "language": "python",
   "name": "myfastapi"
  },
  "language_info": {
   "codemirror_mode": {
    "name": "ipython",
    "version": 3
   },
   "file_extension": ".py",
   "mimetype": "text/x-python",
   "name": "python",
   "nbconvert_exporter": "python",
   "pygments_lexer": "ipython3",
   "version": "3.11.4"
  },
  "orig_nbformat": 4
 },
 "nbformat": 4,
 "nbformat_minor": 2
}
