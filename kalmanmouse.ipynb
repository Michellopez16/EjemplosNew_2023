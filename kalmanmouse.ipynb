{
 "cells": [
  {
   "cell_type": "markdown",
   "metadata": {},
   "source": [
    "\n",
    " filtro de Kalman\n",
    "\n",
    "1. **Ecuación de Actualización del Estado (Predicción):**\n",
    "   $$ \\hat{x}_k^- = A \\hat{x}_{k-1} + B u_k $$\n",
    "   $$ P_k^- = A P_{k-1} A^T + Q $$\n",
    "   - Donde:\n",
    "     - $ \\hat{x}_k^- $ es la estimación a priori del estado en el tiempo $ k $.\n",
    "     - $ A $$ es la matriz de transición del estado.\n",
    "     - $ \\hat{x}_{k-1} $ es la estimación a posteriori del estado en el tiempo $ k-1 $.\n",
    "     - $ B $ es la matriz de control.\n",
    "     - $ u_k $ es la entrada de control.\n",
    "     - $ P_k^- $ es la covarianza a priori del error de estimación.\n",
    "     - $ Q $ es la covarianza del ruido del proceso.\n",
    "\n",
    "2. **Ecuación de Actualización de la Medición (Corrección):**\n",
    "   $$ K_k = P_k^- H^T (H P_k^- H^T + R)^{-1} $$\n",
    "   $$ \\hat{x}_k = \\hat{x}_k^- + K_k (z_k - H \\hat{x}_k^-) $$\n",
    "   $$ P_k = (I - K_k H) P_k^- $$\n",
    "   - Donde:\n",
    "     - $ K_k $ es la ganancia de Kalman en el tiempo $ k $.\n",
    "     - $ H $ es la matriz de medición.\n",
    "     - $ R $ es la covarianza del ruido de medición.\n",
    "     - $ z_k $ es la medición en el tiempo $ k $.\n",
    "     - $ \\hat{x}_k $ es la estimación a posteriori del estado en el tiempo $ k $.\n",
    "     - $ P_k $ es la covarianza a posteriori del error de estimación.\n",
    "     - $ I $ es la matriz identidad.\n",
    "\n",
    "Estas ecuaciones proporcionan un marco matemático para estimar el estado actual de un sistema basado en las mediciones ruidosas y las ecuaciones de estado del sistema. La actualización del estado predice el estado futuro del sistema basado en el estado anterior, y la actualización de la medición ajusta esta predicción basándose en la medición actual."
   ]
  },
  {
   "cell_type": "code",
   "execution_count": 1,
   "metadata": {},
   "outputs": [
    {
     "name": "stdout",
     "output_type": "stream",
     "text": [
      "pygame 2.5.2 (SDL 2.28.3, Python 3.11.4)\n",
      "Hello from the pygame community. https://www.pygame.org/contribute.html\n"
     ]
    },
    {
     "name": "stderr",
     "output_type": "stream",
     "text": [
      "C:\\Users\\Michel_GPC\\AppData\\Local\\Temp\\ipykernel_28480\\3574496959.py:50: DeprecationWarning: Conversion of an array with ndim > 0 to a scalar is deprecated, and will error in future. Ensure you extract a single element from your array before performing this operation. (Deprecated NumPy 1.25.)\n",
      "  pygame.draw.circle(screen, (255, 0, 0), (int(x[0]), int(x[1])), 10)  # Estimación del Filtro de Kalman\n"
     ]
    }
   ],
   "source": [
    "import pygame\n",
    "import numpy as np\n",
    "\n",
    "# Inicializar Pygame\n",
    "pygame.init()\n",
    "\n",
    "# Configurar la ventana de visualización\n",
    "width, height = 800, 600\n",
    "screen = pygame.display.set_mode((width, height))\n",
    "pygame.display.set_caption('Kalman Filter Mouse Estimation')\n",
    "\n",
    "# Configuración del Filtro de Kalman\n",
    "dt = 1  # Tiempo de muestreo\n",
    "A = np.array([[1, 0, dt, 0],\n",
    "              [0, 1, 0, dt],\n",
    "              [0, 0, 1, 0],\n",
    "              [0, 0, 0, 1]])  # Matriz de transición de estado\n",
    "H = np.array([[1, 0, 0, 0],\n",
    "              [0, 1, 0, 0]])  # Matriz de medición\n",
    "Q = 0.1 * np.eye(4)  # Covarianza del ruido del proceso\n",
    "R = 500 * np.eye(2)  # Covarianza del ruido de medición\n",
    "x = np.zeros((4, 1))  # Estado inicial\n",
    "P = 1000 * np.eye(4)  # Covarianza inicial del estado\n",
    "\n",
    "# Bucle principal\n",
    "running = True\n",
    "while running:\n",
    "    for event in pygame.event.get():\n",
    "        if event.type == pygame.QUIT:\n",
    "            running = False\n",
    "    \n",
    "    # Obtener la posición real del mouse\n",
    "    mouse_x, mouse_y = pygame.mouse.get_pos()\n",
    "    z = np.array([[mouse_x], [mouse_y]])  # Medición\n",
    "    \n",
    "    # Filtro de Kalman: Predicción\n",
    "    x = np.dot(A, x)\n",
    "    P = np.dot(np.dot(A, P), A.T) + Q\n",
    "    \n",
    "    # Filtro de Kalman: Corrección (Actualización)\n",
    "    S = np.dot(np.dot(H, P), H.T) + R\n",
    "    K = np.dot(np.dot(P, H.T), np.linalg.inv(S))\n",
    "    y = z - np.dot(H, x)\n",
    "    x = x + np.dot(K, y)\n",
    "    P = P - np.dot(np.dot(K, H), P)\n",
    "    \n",
    "    # Dibujar\n",
    "    screen.fill((255, 255, 255))\n",
    "    pygame.draw.circle(screen, (0, 0, 255), (int(mouse_x), int(mouse_y)), 10)  # Posición real del mouse\n",
    "    pygame.draw.circle(screen, (255, 0, 0), (int(x[0]), int(x[1])), 10)  # Estimación del Filtro de Kalman\n",
    "    pygame.display.flip()\n",
    "    \n",
    "    pygame.time.delay(10)\n",
    "\n",
    "pygame.quit()"
   ]
  }
 ],
 "metadata": {
  "kernelspec": {
   "display_name": "MyFastAPI",
   "language": "python",
   "name": "myfastapi"
  },
  "language_info": {
   "codemirror_mode": {
    "name": "ipython",
    "version": 3
   },
   "file_extension": ".py",
   "mimetype": "text/x-python",
   "name": "python",
   "nbconvert_exporter": "python",
   "pygments_lexer": "ipython3",
   "version": "3.11.4"
  },
  "orig_nbformat": 4
 },
 "nbformat": 4,
 "nbformat_minor": 2
}
